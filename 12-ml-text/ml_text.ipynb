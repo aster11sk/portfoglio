{
 "cells": [
  {
   "cell_type": "markdown",
   "metadata": {},
   "source": [
    "# Проект с использованием BERT\n",
    "<h1>Содержание<span class=\"tocSkip\"></span></h1>\n",
    "<div class=\"toc\"><ul class=\"toc-item\"><li><span><a href=\"#Подготовка\" data-toc-modified-id=\"Подготовка-1\"><span class=\"toc-item-num\">1&nbsp;&nbsp;</span>Подготовка</a></span></li><li><span><a href=\"#Обучение\" data-toc-modified-id=\"Обучение-2\"><span class=\"toc-item-num\">2&nbsp;&nbsp;</span>Обучение</a></span></li><li><span><a href=\"#Выводы\" data-toc-modified-id=\"Выводы-3\"><span class=\"toc-item-num\">3&nbsp;&nbsp;</span>Выводы</a></span></li><li><span><a href=\"#Чек-лист-проверки\" data-toc-modified-id=\"Чек-лист-проверки-4\"><span class=\"toc-item-num\">4&nbsp;&nbsp;</span>Чек-лист проверки</a></span></li></ul></div>"
   ]
  },
  {
   "cell_type": "markdown",
   "metadata": {},
   "source": [
    "Интернет-магазин «Викишоп» запускает новый сервис. Теперь пользователи могут редактировать и дополнять описания товаров, как в вики-сообществах. То есть клиенты предлагают свои правки и комментируют изменения других. Магазину нужен инструмент, который будет искать токсичные комментарии и отправлять их на модерацию. \n",
    "\n",
    "Необходимо обучить модель классифицировать комментарии на позитивные и негативные. В распоряжении набор данных с разметкой о токсичности правок.\n",
    "\n",
    "Нужно построить модель со значением метрики качества *F1* не меньше 0.75. \n",
    "\n",
    "\n",
    "**Описание данных**\n",
    "\n",
    "Данные находятся в файле `toxic_comments.csv`. Столбец *text* в нём содержит текст комментария, а *toxic* — целевой признак."
   ]
  },
  {
   "cell_type": "markdown",
   "metadata": {},
   "source": [
    "## Подготовка"
   ]
  },
  {
   "cell_type": "code",
   "execution_count": 1,
   "metadata": {},
   "outputs": [
    {
     "name": "stdout",
     "output_type": "stream",
     "text": [
      "Requirement already satisfied: catboost in c:\\users\\gorbu\\anaconda3\\lib\\site-packages (1.2.2)\n",
      "Requirement already satisfied: graphviz in c:\\users\\gorbu\\anaconda3\\lib\\site-packages (from catboost) (0.20.1)\n",
      "Requirement already satisfied: matplotlib in c:\\users\\gorbu\\anaconda3\\lib\\site-packages (from catboost) (3.7.2)\n",
      "Requirement already satisfied: numpy>=1.16.0 in c:\\users\\gorbu\\anaconda3\\lib\\site-packages (from catboost) (1.24.3)\n",
      "Requirement already satisfied: pandas>=0.24 in c:\\users\\gorbu\\anaconda3\\lib\\site-packages (from catboost) (2.0.3)\n",
      "Requirement already satisfied: scipy in c:\\users\\gorbu\\anaconda3\\lib\\site-packages (from catboost) (1.11.1)\n",
      "Requirement already satisfied: plotly in c:\\users\\gorbu\\anaconda3\\lib\\site-packages (from catboost) (5.9.0)\n",
      "Requirement already satisfied: six in c:\\users\\gorbu\\anaconda3\\lib\\site-packages (from catboost) (1.16.0)\n",
      "Requirement already satisfied: python-dateutil>=2.8.2 in c:\\users\\gorbu\\anaconda3\\lib\\site-packages (from pandas>=0.24->catboost) (2.8.2)\n",
      "Requirement already satisfied: pytz>=2020.1 in c:\\users\\gorbu\\anaconda3\\lib\\site-packages (from pandas>=0.24->catboost) (2023.3.post1)\n",
      "Requirement already satisfied: tzdata>=2022.1 in c:\\users\\gorbu\\anaconda3\\lib\\site-packages (from pandas>=0.24->catboost) (2023.3)\n",
      "Requirement already satisfied: contourpy>=1.0.1 in c:\\users\\gorbu\\anaconda3\\lib\\site-packages (from matplotlib->catboost) (1.0.5)\n",
      "Requirement already satisfied: cycler>=0.10 in c:\\users\\gorbu\\anaconda3\\lib\\site-packages (from matplotlib->catboost) (0.11.0)\n",
      "Requirement already satisfied: fonttools>=4.22.0 in c:\\users\\gorbu\\anaconda3\\lib\\site-packages (from matplotlib->catboost) (4.25.0)\n",
      "Requirement already satisfied: kiwisolver>=1.0.1 in c:\\users\\gorbu\\anaconda3\\lib\\site-packages (from matplotlib->catboost) (1.4.4)\n",
      "Requirement already satisfied: packaging>=20.0 in c:\\users\\gorbu\\anaconda3\\lib\\site-packages (from matplotlib->catboost) (23.1)\n",
      "Requirement already satisfied: pillow>=6.2.0 in c:\\users\\gorbu\\anaconda3\\lib\\site-packages (from matplotlib->catboost) (9.4.0)\n",
      "Requirement already satisfied: pyparsing<3.1,>=2.3.1 in c:\\users\\gorbu\\anaconda3\\lib\\site-packages (from matplotlib->catboost) (3.0.9)\n",
      "Requirement already satisfied: tenacity>=6.2.0 in c:\\users\\gorbu\\anaconda3\\lib\\site-packages (from plotly->catboost) (8.2.2)\n"
     ]
    }
   ],
   "source": [
    "!pip install catboost\n",
    "# !pip3 install emoji==0.6.0"
   ]
  },
  {
   "cell_type": "code",
   "execution_count": 1,
   "metadata": {
    "id": "esAMwze1y4U5"
   },
   "outputs": [],
   "source": [
    "import catboost\n",
    "import csv\n",
    "import lightgbm as lgb\n",
    "import matplotlib.pyplot as plt\n",
    "import numpy as np\n",
    "import pandas as pd\n",
    "import torch\n",
    "import transformers\n",
    "from tqdm import notebook\n",
    "from sklearn.linear_model import LogisticRegression\n",
    "from sklearn.tree import DecisionTreeClassifier\n",
    "from sklearn.ensemble import RandomForestClassifier\n",
    "from sklearn.model_selection import cross_val_score, train_test_split, GridSearchCV\n",
    "from sklearn.metrics import f1_score, make_scorer\n",
    "from sklearn.utils import shuffle"
   ]
  },
  {
   "cell_type": "code",
   "execution_count": 2,
   "metadata": {
    "id": "GP0dgl-aofg_"
   },
   "outputs": [],
   "source": [
    "R_STATE = 12345"
   ]
  },
  {
   "cell_type": "code",
   "execution_count": 4,
   "metadata": {
    "colab": {
     "base_uri": "https://localhost:8080/"
    },
    "id": "sMbLTkfzzAb3",
    "outputId": "08e53105-31c3-473d-9cc9-882e819a764b"
   },
   "outputs": [
    {
     "name": "stdout",
     "output_type": "stream",
     "text": [
      "<class 'pandas.core.frame.DataFrame'>\n",
      "RangeIndex: 159292 entries, 0 to 159291\n",
      "Data columns (total 3 columns):\n",
      " #   Column  Non-Null Count   Dtype \n",
      "---  ------  --------------   ----- \n",
      " 0           159292 non-null  object\n",
      " 1   text    159292 non-null  object\n",
      " 2   toxic   159292 non-null  object\n",
      "dtypes: object(3)\n",
      "memory usage: 3.6+ MB\n"
     ]
    },
    {
     "data": {
      "text/html": [
       "<div>\n",
       "<style scoped>\n",
       "    .dataframe tbody tr th:only-of-type {\n",
       "        vertical-align: middle;\n",
       "    }\n",
       "\n",
       "    .dataframe tbody tr th {\n",
       "        vertical-align: top;\n",
       "    }\n",
       "\n",
       "    .dataframe thead th {\n",
       "        text-align: right;\n",
       "    }\n",
       "</style>\n",
       "<table border=\"1\" class=\"dataframe\">\n",
       "  <thead>\n",
       "    <tr style=\"text-align: right;\">\n",
       "      <th></th>\n",
       "      <th></th>\n",
       "      <th>text</th>\n",
       "      <th>toxic</th>\n",
       "    </tr>\n",
       "  </thead>\n",
       "  <tbody>\n",
       "    <tr>\n",
       "      <th>7932</th>\n",
       "      <td>7944</td>\n",
       "      <td>, 11 January 2007 (UTC)\\n\\n Don't worry.  I'm ...</td>\n",
       "      <td>0</td>\n",
       "    </tr>\n",
       "    <tr>\n",
       "      <th>136508</th>\n",
       "      <td>136646</td>\n",
       "      <td>Yes. I know about the two options of 'l'/'L' s...</td>\n",
       "      <td>0</td>\n",
       "    </tr>\n",
       "    <tr>\n",
       "      <th>32155</th>\n",
       "      <td>32195</td>\n",
       "      <td>\"\\n\\nPlease tell me where the \"\"personal attac...</td>\n",
       "      <td>0</td>\n",
       "    </tr>\n",
       "    <tr>\n",
       "      <th>24347</th>\n",
       "      <td>24367</td>\n",
       "      <td>hey tard. \\n\\nthe purpose of that section was ...</td>\n",
       "      <td>0</td>\n",
       "    </tr>\n",
       "    <tr>\n",
       "      <th>129726</th>\n",
       "      <td>129859</td>\n",
       "      <td>mr joustra said protrusion rebels were in char...</td>\n",
       "      <td>0</td>\n",
       "    </tr>\n",
       "    <tr>\n",
       "      <th>157554</th>\n",
       "      <td>157713</td>\n",
       "      <td>Hm...sorry to butt in, but following this logi...</td>\n",
       "      <td>0</td>\n",
       "    </tr>\n",
       "    <tr>\n",
       "      <th>117507</th>\n",
       "      <td>117606</td>\n",
       "      <td>Kangaroo, wallaroo and wallaby have the same p...</td>\n",
       "      <td>0</td>\n",
       "    </tr>\n",
       "    <tr>\n",
       "      <th>144983</th>\n",
       "      <td>145139</td>\n",
       "      <td>India quick links \\n\\n | talk</td>\n",
       "      <td>0</td>\n",
       "    </tr>\n",
       "    <tr>\n",
       "      <th>106166</th>\n",
       "      <td>106263</td>\n",
       "      <td>\"\\n\\nSpeedy deletion of Dead squirrel\\n Please...</td>\n",
       "      <td>0</td>\n",
       "    </tr>\n",
       "    <tr>\n",
       "      <th>17668</th>\n",
       "      <td>17685</td>\n",
       "      <td>I apologized to terry \\n\\nSo please stop bothe...</td>\n",
       "      <td>0</td>\n",
       "    </tr>\n",
       "  </tbody>\n",
       "</table>\n",
       "</div>"
      ],
      "text/plain": [
       "                                                             text toxic\n",
       "7932      7944  , 11 January 2007 (UTC)\\n\\n Don't worry.  I'm ...     0\n",
       "136508  136646  Yes. I know about the two options of 'l'/'L' s...     0\n",
       "32155    32195  \"\\n\\nPlease tell me where the \"\"personal attac...     0\n",
       "24347    24367  hey tard. \\n\\nthe purpose of that section was ...     0\n",
       "129726  129859  mr joustra said protrusion rebels were in char...     0\n",
       "157554  157713  Hm...sorry to butt in, but following this logi...     0\n",
       "117507  117606  Kangaroo, wallaroo and wallaby have the same p...     0\n",
       "144983  145139                      India quick links \\n\\n | talk     0\n",
       "106166  106263  \"\\n\\nSpeedy deletion of Dead squirrel\\n Please...     0\n",
       "17668    17685  I apologized to terry \\n\\nSo please stop bothe...     0"
      ]
     },
     "execution_count": 4,
     "metadata": {},
     "output_type": "execute_result"
    }
   ],
   "source": [
    "#по какой-то причине при стандартном открытии файла токенайзер выдавал ошибку, это исправление подглядел на StackOverflow\n",
    "with open('toxic_comments.csv', encoding='utf-8') as file:\n",
    "    reader = csv.DictReader(file)\n",
    "    data = pd.DataFrame(reader)\n",
    "data.info()\n",
    "data.sample(10)"
   ]
  },
  {
   "cell_type": "markdown",
   "metadata": {},
   "source": [
    "Для выполнения работы есть база данных с почти 160 тысячами записей. Это потребует масштабных вычислений, для чего уместно задействовать видеокарту."
   ]
  },
  {
   "cell_type": "code",
   "execution_count": 5,
   "metadata": {},
   "outputs": [
    {
     "data": {
      "text/plain": [
       "False"
      ]
     },
     "execution_count": 5,
     "metadata": {},
     "output_type": "execute_result"
    }
   ],
   "source": [
    "DEVICE = torch.device(\"cuda:0\" if torch.cuda.is_available() else \"cpu\")\n",
    "torch.cuda.is_available()"
   ]
  },
  {
   "cell_type": "code",
   "execution_count": 6,
   "metadata": {},
   "outputs": [
    {
     "data": {
      "text/plain": [
       "         0.0\n",
       "text     0.0\n",
       "toxic    0.0\n",
       "dtype: float64"
      ]
     },
     "execution_count": 6,
     "metadata": {},
     "output_type": "execute_result"
    }
   ],
   "source": [
    "data[data['text'].duplicated()].sum()"
   ]
  },
  {
   "cell_type": "markdown",
   "metadata": {},
   "source": [
    "Дубликатов в базе нет. Теперь нужно конвертировать целевой признак в число."
   ]
  },
  {
   "cell_type": "code",
   "execution_count": 7,
   "metadata": {
    "colab": {
     "base_uri": "https://localhost:8080/"
    },
    "id": "1pi_esUGPUaE",
    "outputId": "ee751ebc-61ef-4089-f10a-ea5ee47e5941",
    "scrolled": false
   },
   "outputs": [
    {
     "data": {
      "text/plain": [
       "0         0\n",
       "1         0\n",
       "2         0\n",
       "3         0\n",
       "4         0\n",
       "         ..\n",
       "159287    0\n",
       "159288    0\n",
       "159289    0\n",
       "159290    0\n",
       "159291    0\n",
       "Name: toxic, Length: 159292, dtype: int64"
      ]
     },
     "execution_count": 7,
     "metadata": {},
     "output_type": "execute_result"
    }
   ],
   "source": [
    "data['toxic'] = data['toxic'].astype('int')\n",
    "data['toxic']"
   ]
  },
  {
   "cell_type": "markdown",
   "metadata": {},
   "source": [
    "Время посмотреть на баланс классов целевого признака."
   ]
  },
  {
   "cell_type": "code",
   "execution_count": 8,
   "metadata": {},
   "outputs": [
    {
     "data": {
      "text/plain": [
       "0    143106\n",
       "1     16186\n",
       "Name: toxic, dtype: int64"
      ]
     },
     "metadata": {},
     "output_type": "display_data"
    },
    {
     "name": "stdout",
     "output_type": "stream",
     "text": [
      "Токсичных твитов меньше нейтральных в 8.841344371679229 раз\n"
     ]
    },
    {
     "data": {
      "image/png": "[encoded data removed]",
      "text/plain": [
       "<Figure size 432x288 with 1 Axes>"
      ]
     },
     "metadata": {},
     "output_type": "display_data"
    }
   ],
   "source": [
    "display(data['toxic'].value_counts())\n",
    "diff = len(data.loc[data['toxic']==0, 'toxic']) / len(data.loc[data['toxic']==1, 'toxic'])\n",
    "print('Токсичных твитов меньше нейтральных в', diff , 'раз')\n",
    "data['toxic'].value_counts().plot(kind='pie', autopct='%1.1f%%', grid=True, title='Доля каждого класса');"
   ]
  },
  {
   "cell_type": "markdown",
   "metadata": {},
   "source": [
    "Классы несбалансированы, и в идеальной ситуации стоит их сбалансировать. Однако ни апсемплинг, ни даунсемплинг не подходят - в качестве данных не простые числа, а текст, несущий смысловую нагрузку, поэтому и случайное удаление, и увеличение числа вхождения случайных текстов внесут существенные изменения - поэтому нужно просто учесть несбалансированность классов при обучении модели.\n",
    "\n",
    "Дальше будет конвертация текста в массив векторов."
   ]
  },
  {
   "cell_type": "code",
   "execution_count": 9,
   "metadata": {
    "id": "I5xtLKyt0djP"
   },
   "outputs": [],
   "source": [
    "data_X = data['text']\n",
    "data_y = data['toxic']"
   ]
  },
  {
   "cell_type": "code",
   "execution_count": 10,
   "metadata": {},
   "outputs": [],
   "source": [
    "tokenizer = transformers.BertTokenizerFast.from_pretrained('unitary/toxic-bert', do_lower_case=True)\n",
    "\n",
    "tokenized = data_X.apply(\n",
    "    lambda x: tokenizer.encode(x, truncation=True, add_special_tokens=True))\n",
    "\n",
    "max_len = 0\n",
    "for i in tokenized.values:\n",
    "    if len(i) > max_len:\n",
    "        max_len = len(i)\n",
    "\n",
    "padded = np.array([i + [0]*(max_len - len(i)) for i in tokenized.values])\n",
    "\n",
    "attention_mask = np.where(padded != 0, 1, 0)"
   ]
  },
  {
   "cell_type": "code",
   "execution_count": 11,
   "metadata": {
    "id": "xbBkZrpWzVAv"
   },
   "outputs": [],
   "source": [
    "model = transformers.BertModel.from_pretrained('unitary/toxic-bert', output_hidden_states=False).to(DEVICE)"
   ]
  },
  {
   "cell_type": "code",
   "execution_count": 12,
   "metadata": {
    "colab": {
     "base_uri": "https://localhost:8080/",
     "height": 49,
     "referenced_widgets": [
      "4e00cca64fd843faad8f249274354731",
      "0cc5d4f914674973871eac619568636a",
      "a64b5b30e7f64eb8b1e02bed778e1725",
      "a292c669cea640fbae45cbcf8b6a5fb6",
      "f02ac304db784253bed4e949a5ada91c",
      "5dad6889cdaf4bf0b2a91b90e9a881a6",
      "f9e385218d3d4c1db03ea6330386944c",
      "d0a52148091a4a109698edf9cfc1a40e",
      "d50012184a8e40768e67a30293b7c03d",
      "1730d45a89824b8994535ac29aee7c02",
      "085abccd1a5344c589abfbd6cb5bb763"
     ]
    },
    "id": "G85QTLtx6yoY",
    "outputId": "13302b1c-7640-4065-8693-346864172df3"
   },
   "outputs": [
    {
     "data": {
      "application/vnd.jupyter.widget-view+json": {
       "model_id": "2b297346e6934660ad1b6425e85840b6",
       "version_major": 2,
       "version_minor": 0
      },
      "text/plain": [
       "  0%|          | 0/1609 [00:00<?, ?it/s]"
      ]
     },
     "metadata": {},
     "output_type": "display_data"
    }
   ],
   "source": [
    "batch_size = 99 #это делитель, дающий наименьший остаток\n",
    "embeddings = []\n",
    "for i in notebook.tqdm(range(padded.shape[0] // batch_size)):\n",
    "        batch = torch.LongTensor(padded[batch_size*i:batch_size*(i+1)]).to(DEVICE)\n",
    "        attention_mask_batch = torch.LongTensor(attention_mask[batch_size*i:batch_size*(i+1)]).to(DEVICE)\n",
    "        \n",
    "        with torch.no_grad():\n",
    "            batch_embeddings = model(batch, attention_mask=attention_mask_batch)\n",
    "        \n",
    "        embeddings.append(batch_embeddings[0][:,0,:].cpu().numpy())"
   ]
  },
  {
   "cell_type": "code",
   "execution_count": 13,
   "metadata": {
    "colab": {
     "base_uri": "https://localhost:8080/",
     "height": 200
    },
    "id": "3Doei6nh3HMZ",
    "outputId": "f797fa81-4e46-4555-b92b-00b6df4bf527"
   },
   "outputs": [],
   "source": [
    "features = np.concatenate(embeddings)"
   ]
  },
  {
   "cell_type": "code",
   "execution_count": 14,
   "metadata": {},
   "outputs": [
    {
     "data": {
      "text/plain": [
       "array([[-0.55851054, -1.0476656 ,  0.7199496 , ..., -0.71159095,\n",
       "         0.5249055 ,  0.11277001],\n",
       "       [-0.5933712 , -0.99813044,  0.6239391 , ..., -0.69221944,\n",
       "         0.46335796,  0.10821172],\n",
       "       [-0.61220884, -0.865758  ,  0.74858934, ..., -0.6126192 ,\n",
       "         0.50902766,  0.13732645],\n",
       "       ...,\n",
       "       [-0.4192744 , -0.41037002,  0.18284497, ..., -0.5108813 ,\n",
       "         0.587998  ,  0.56956494],\n",
       "       [-0.6624775 , -0.76997966,  0.6595743 , ..., -0.8293034 ,\n",
       "         0.60107785,  0.3854629 ],\n",
       "       [-0.43634877, -0.7622255 ,  0.8043335 , ..., -0.67769533,\n",
       "         0.6962611 ,  0.26211855]], dtype=float32)"
      ]
     },
     "execution_count": 14,
     "metadata": {},
     "output_type": "execute_result"
    }
   ],
   "source": [
    "features"
   ]
  },
  {
   "cell_type": "code",
   "execution_count": 15,
   "metadata": {},
   "outputs": [],
   "source": [
    "#этот блок кода нужен для сохранения промежуточных результатов, т.к. токенайзер слишком долго считает, \n",
    "#а catboost имеет обыкновение убивать ядро при использовании для вычислений видеокарту.\n",
    "\n",
    "#pd.DataFrame(features).to_csv('features') \n",
    "#features = pd.read_csv('features') \n",
    "features = pd.DataFrame(features)"
   ]
  },
  {
   "cell_type": "markdown",
   "metadata": {},
   "source": [
    "### Обучение"
   ]
  },
  {
   "cell_type": "markdown",
   "metadata": {},
   "source": [
    "Массив целевого признака нужно обрезать на единичку, т.к. один из текстов был обрезан при кодировке.\n",
    "Х и у будут использованы для gridsearch, train и valid для стандартного подбора гиперпараметров"
   ]
  },
  {
   "cell_type": "code",
   "execution_count": 16,
   "metadata": {
    "id": "P3pykftpIL7w"
   },
   "outputs": [],
   "source": [
    "data_y = data_y[:-1]\n",
    "X, test_X, y, test_y = train_test_split(features, data_y, test_size=0.2)\n",
    "train_X, valid_X, train_y, valid_y = train_test_split(X, y,\n",
    "                                                    test_size=0.25)\n"
   ]
  },
  {
   "cell_type": "markdown",
   "metadata": {},
   "source": [
    "Стоит проконтролировать, что пропорции дисбаланса для разбиения примерно равны пропорциям дисбаланса исходного датасета."
   ]
  },
  {
   "cell_type": "code",
   "execution_count": 17,
   "metadata": {
    "scrolled": true
   },
   "outputs": [
    {
     "data": {
      "text/plain": [
       "toxic\n",
       "0    114472\n",
       "1     12960\n",
       "Name: count, dtype: int64"
      ]
     },
     "metadata": {},
     "output_type": "display_data"
    },
    {
     "name": "stdout",
     "output_type": "stream",
     "text": [
      "Токсичных твитов меньше нейтральных в 8.832716049382716 раз\n"
     ]
    },
    {
     "data": {
      "text/plain": [
       "toxic\n",
       "0    85858\n",
       "1     9716\n",
       "Name: count, dtype: int64"
      ]
     },
     "metadata": {},
     "output_type": "display_data"
    },
    {
     "name": "stdout",
     "output_type": "stream",
     "text": [
      "Токсичных твитов меньше нейтральных в 8.83676410045286 раз\n"
     ]
    },
    {
     "data": {
      "text/plain": [
       "toxic\n",
       "0    28633\n",
       "1     3226\n",
       "Name: count, dtype: int64"
      ]
     },
     "metadata": {},
     "output_type": "display_data"
    },
    {
     "name": "stdout",
     "output_type": "stream",
     "text": [
      "Токсичных твитов меньше нейтральных в 8.87569745815251 раз\n"
     ]
    },
    {
     "data": {
      "image/png": "[encoded data removed]",
      "text/plain": [
       "<Figure size 1500x2500 with 3 Axes>"
      ]
     },
     "metadata": {},
     "output_type": "display_data"
    }
   ],
   "source": [
    "titles = ['выборки для GridSearch', 'тренировочной выборки', 'тестовой выборки']\n",
    "k = 0\n",
    "plt.figure(figsize=(15, 25))\n",
    "for data_y in [y, train_y, test_y]:\n",
    "    display(data_y.value_counts())\n",
    "    diff = len(data_y.иloc[data_y==0]) / len(data_y.loc[data_y==1])\n",
    "    print('Токсичных твитов меньше нейтральных в', diff , 'раз')\n",
    "    plt.subplot(3, 1, k+1)\n",
    "    data_y.value_counts().plot(kind='pie', autopct='%1.1f%%', grid=True, title='Доля каждого класса для '+titles[k]);\n",
    "    k += 1"
   ]
  },
  {
   "cell_type": "markdown",
   "metadata": {},
   "source": [
    "Первая модель - логистическая регрессия. Потенциально будет долго считаться, т.к. массив признаков занимает 1.3 гигабайта, а процедуры матричного умножения и в особенности поиска обратной матрицы довольно ресурсоёмкие."
   ]
  },
  {
   "cell_type": "code",
   "execution_count": 18,
   "metadata": {
    "colab": {
     "base_uri": "https://localhost:8080/",
     "height": 254
    },
    "id": "BwCBX1yPnLgX",
    "outputId": "fb99191b-6e96-4e13-b62f-c20da9580ccb"
   },
   "outputs": [
    {
     "name": "stdout",
     "output_type": "stream",
     "text": [
      "Лучший результат для линейной регрессии -  0.9259499907669021\n",
      "Этот результат получен со следующими параметрами: {'C': 1}\n",
      "CPU times: total: 1h 3min 11s\n",
      "Wall time: 12min 2s\n"
     ]
    }
   ],
   "source": [
    "%%time\n",
    "param_grid = {'C': [0.1, 1, 10]}\n",
    "model_lr = LogisticRegression(random_state=R_STATE, max_iter=5000, class_weight='balanced')\n",
    "grid_lr = GridSearchCV(model_lr, param_grid=param_grid, scoring='f1', cv=5, return_train_score=True)\n",
    "grid_lr.fit(X, y)\n",
    "print('Лучший результат для линейной регрессии - ' , grid_lr.best_score_)\n",
    "print('Этот результат получен со следующими параметрами:' , grid_lr.best_params_)"
   ]
  },
  {
   "cell_type": "markdown",
   "metadata": {},
   "source": [
    "Логистическая регрессия сразу же показала отличный результат, однако для поиска оптимальной модели стоит задействовать и другие.\n",
    "\n",
    "Следующая - классификатор, основанный на решающих деревьях."
   ]
  },
  {
   "cell_type": "code",
   "execution_count": 19,
   "metadata": {
    "colab": {
     "base_uri": "https://localhost:8080/"
    },
    "id": "Wi1xViuLQK8i",
    "outputId": "f510ea08-b7fe-4740-a2e5-97c78f7e7c3b"
   },
   "outputs": [
    {
     "name": "stdout",
     "output_type": "stream",
     "text": [
      "F1 score лучшей модели DecisionTreeClassifier: 0.9269027882441596\n",
      "Значение параметра depth для лучшей модели DecisionTreeClassifier: 19\n",
      "CPU times: total: 32min 9s\n",
      "Wall time: 32min 50s\n"
     ]
    }
   ],
   "source": [
    "%%time\n",
    "best_model_dct = None\n",
    "best_result = 0\n",
    "best_depth = 0\n",
    "for depth in range(1, 21, 2):\n",
    "    model = DecisionTreeClassifier(random_state=R_STATE, max_depth=depth, class_weight='balanced')\n",
    "    model.fit(train_X, train_y)\n",
    "    predictions = model.predict(valid_X)\n",
    "    result = f1_score(predictions, valid_y)\n",
    "    if result > best_result:\n",
    "        best_model_dct = model\n",
    "        best_result = result\n",
    "        best_depth = depth\n",
    "\n",
    "print(\"F1 score лучшей модели DecisionTreeClassifier:\", best_result)\n",
    "print(\"Значение параметра depth для лучшей модели DecisionTreeClassifier:\", best_depth)"
   ]
  },
  {
   "cell_type": "markdown",
   "metadata": {},
   "source": [
    "Схожий с логистической регрессией итоговый показатель, но обучилась она быстрее, да и предсказывать потенциально так же должна быстрее.\n",
    "\n",
    "Следующие модели основаны на бустинге - это CatBoost и LightGBM"
   ]
  },
  {
   "cell_type": "code",
   "execution_count": 20,
   "metadata": {
    "colab": {
     "base_uri": "https://localhost:8080/"
    },
    "id": "1dViQ0lITW2Z",
    "outputId": "5eae53eb-6874-4ee1-84dd-51ee6b10c5cf",
    "scrolled": false
   },
   "outputs": [
    {
     "name": "stdout",
     "output_type": "stream",
     "text": [
      "0:\tloss: 0.9845310\tbest: 0.9845310 (0)\ttotal: 44.7s\tremaining: 2m 14s\n",
      "1:\tloss: 0.9838640\tbest: 0.9845310 (0)\ttotal: 1m 27s\tremaining: 1m 27s\n",
      "2:\tloss: 0.9843441\tbest: 0.9845310 (0)\ttotal: 4m 47s\tremaining: 1m 35s\n",
      "3:\tloss: 0.9839410\tbest: 0.9845310 (0)\ttotal: 8m 5s\tremaining: 0us\n",
      "Estimating final quality...\n",
      "Лучший результат для CatBoostClassifier -  0.954753131908622\n",
      "Он получен со следующими параметрами -  {'depth': 4, 'learning_rate': 0.05}\n",
      "CPU times: total: 1h 14min 9s\n",
      "Wall time: 11min\n"
     ]
    }
   ],
   "source": [
    "%%time\n",
    "cat_cat = catboost.CatBoostClassifier(random_state=R_STATE, auto_class_weights='Balanced', eval_metric='TotalF1', \n",
    "                                      logging_level='Silent')\n",
    "grid_cbc = {'learning_rate': [0.05, 0.1],\n",
    "           'depth': [4, 8]}\n",
    "grid_catboost = cat_cat.grid_search(grid_cbc, X=X, y=y)\n",
    "print('Лучший результат для CatBoostClassifier - ', f1_score(cat_cat.predict(valid_X), valid_y))\n",
    "print('Он получен со следующими параметрами - ' , grid_catboost['params'])"
   ]
  },
  {
   "cell_type": "markdown",
   "metadata": {},
   "source": [
    "Более высокий показатель метрики дался высокой ценой - несмотря на то, что теоретически алгоритм должен обучаться быстрее, фактически он учился дольше логистической регрессии, хотя и параметров для поиска по сетке тут было больше."
   ]
  },
  {
   "cell_type": "code",
   "execution_count": 21,
   "metadata": {
    "scrolled": true
   },
   "outputs": [
    {
     "name": "stdout",
     "output_type": "stream",
     "text": [
      "[LightGBM] [Info] Number of positive: 9716, number of negative: 85858\n",
      "[LightGBM] [Info] This is the GPU trainer!!\n",
      "[LightGBM] [Info] Total Bins 76800\n",
      "[LightGBM] [Info] Number of data points in the train set: 95574, number of used features: 768\n",
      "[LightGBM] [Info] Using GPU Device: NVIDIA GeForce RTX 3060 Laptop GPU, Vendor: NVIDIA Corporation\n",
      "[LightGBM] [Info] Compiling OpenCL Kernel with 256 bins...\n",
      "[LightGBM] [Info] GPU programs have been built\n",
      "[LightGBM] [Info] Size of histogram bin entry: 8\n",
      "[LightGBM] [Info] 768 dense feature groups (70.00 MB) transferred to GPU in 0.024891 secs. 0 sparse feature groups\n",
      "[LightGBM] [Info] [binary:BoostFromScore]: pavg=0.500000 -> initscore=0.000000\n",
      "[LightGBM] [Info] Start training from score 0.000000\n",
      "[LightGBM] [Info] Number of positive: 9716, number of negative: 85858\n",
      "[LightGBM] [Info] This is the GPU trainer!!\n",
      "[LightGBM] [Info] Total Bins 153600\n",
      "[LightGBM] [Info] Number of data points in the train set: 95574, number of used features: 768\n",
      "[LightGBM] [Info] Using GPU Device: NVIDIA GeForce RTX 3060 Laptop GPU, Vendor: NVIDIA Corporation\n",
      "[LightGBM] [Info] Compiling OpenCL Kernel with 256 bins...\n",
      "[LightGBM] [Info] GPU programs have been built\n",
      "[LightGBM] [Info] Size of histogram bin entry: 8\n",
      "[LightGBM] [Info] 768 dense feature groups (70.00 MB) transferred to GPU in 0.028244 secs. 0 sparse feature groups\n",
      "[LightGBM] [Info] [binary:BoostFromScore]: pavg=0.500000 -> initscore=0.000000\n",
      "[LightGBM] [Info] Start training from score 0.000000\n",
      "[LightGBM] [Info] Number of positive: 9716, number of negative: 85858\n",
      "[LightGBM] [Info] This is the GPU trainer!!\n",
      "[LightGBM] [Info] Total Bins 76800\n",
      "[LightGBM] [Info] Number of data points in the train set: 95574, number of used features: 768\n",
      "[LightGBM] [Info] Using GPU Device: NVIDIA GeForce RTX 3060 Laptop GPU, Vendor: NVIDIA Corporation\n",
      "[LightGBM] [Info] Compiling OpenCL Kernel with 256 bins...\n",
      "[LightGBM] [Info] GPU programs have been built\n",
      "[LightGBM] [Info] Size of histogram bin entry: 8\n",
      "[LightGBM] [Info] 768 dense feature groups (70.00 MB) transferred to GPU in 0.026673 secs. 0 sparse feature groups\n",
      "[LightGBM] [Info] [binary:BoostFromScore]: pavg=0.500000 -> initscore=0.000000\n",
      "[LightGBM] [Info] Start training from score 0.000000\n",
      "[LightGBM] [Info] Number of positive: 9716, number of negative: 85858\n",
      "[LightGBM] [Info] This is the GPU trainer!!\n",
      "[LightGBM] [Info] Total Bins 153600\n",
      "[LightGBM] [Info] Number of data points in the train set: 95574, number of used features: 768\n",
      "[LightGBM] [Info] Using GPU Device: NVIDIA GeForce RTX 3060 Laptop GPU, Vendor: NVIDIA Corporation\n",
      "[LightGBM] [Info] Compiling OpenCL Kernel with 256 bins...\n",
      "[LightGBM] [Info] GPU programs have been built\n",
      "[LightGBM] [Info] Size of histogram bin entry: 8\n",
      "[LightGBM] [Info] 768 dense feature groups (70.00 MB) transferred to GPU in 0.025807 secs. 0 sparse feature groups\n",
      "[LightGBM] [Info] [binary:BoostFromScore]: pavg=0.500000 -> initscore=0.000000\n",
      "[LightGBM] [Info] Start training from score 0.000000\n",
      "F1 score лучшей модели LGBMModel: 0.9433788553015191\n",
      "Значение параметров n_estimators и max_bin для лучшей модели LGBMModel: 1000 100\n",
      "CPU times: total: 8min 43s\n",
      "Wall time: 1min 48s\n"
     ]
    }
   ],
   "source": [
    "%%time\n",
    "best_model_lgb = None\n",
    "best_n_estimators = None\n",
    "best_max_bin = None\n",
    "best_f1_lgb = 0\n",
    "for n_estimators in [750, 1000]:\n",
    "    for max_bin in [100, 200]:\n",
    "        booster = lgb.LGBMClassifier(objective=\"binary\", class_weight='balanced', n_estimators=n_estimators, \n",
    "                                device_type='gpu', max_bin=max_bin, random_state=R_STATE)\n",
    "        booster.fit(train_X, train_y, eval_metric='f1')\n",
    "        predictions = booster.predict(valid_X)\n",
    "        result = f1_score(booster.predict(valid_X), valid_y)\n",
    "        if result > best_f1_lgb:\n",
    "            best_n_estimators = n_estimators\n",
    "            best_model_lgb = booster\n",
    "            best_max_bin = max_bin\n",
    "            best_f1_lgb = result    \n",
    "print(\"F1 score лучшей модели LGBMModel:\", best_f1_lgb)\n",
    "print(\"Значение параметров n_estimators и max_bin для лучшей модели LGBMModel:\", best_n_estimators, best_max_bin)"
   ]
  },
  {
   "cell_type": "markdown",
   "metadata": {},
   "source": [
    "Судя по всему, перед нами победитель - минимальное время обучения, хотя и слегка уступает CatBoost'у по итоговому показателю f1.\n",
    "Т.к. в итоге были получены близкие показатели метрики, для проверке на тесте будут использованы обе модели."
   ]
  },
  {
   "cell_type": "code",
   "execution_count": 23,
   "metadata": {},
   "outputs": [
    {
     "name": "stdout",
     "output_type": "stream",
     "text": [
      "F1 score для CatBoostClassifier равен 0.9334516415261757\n",
      "F1 score для LGBMModel равен 0.9466093893832463\n"
     ]
    }
   ],
   "source": [
    "print('F1 score для CatBoostClassifier равен', f1_score(test_y, cat_cat.predict(test_X)))\n",
    "print('F1 score для LGBMModel равен', f1_score(test_y, best_model_lgb.predict(test_X)))"
   ]
  },
  {
   "cell_type": "markdown",
   "metadata": {},
   "source": [
    "На тесте LightGBM показал лучший результат, что с учётом более быстрого обучения окончательно ставит точку в ответе на вопрос о лучшей модели."
   ]
  },
  {
   "cell_type": "markdown",
   "metadata": {},
   "source": [
    "## Выводы"
   ]
  },
  {
   "cell_type": "markdown",
   "metadata": {},
   "source": [
    "Для выполнения задания был изучен датасет текстов, из которых почти 90% имели нейтральный характер, а остальные - токсичный. Для построения модели была задействована нейросеть Bert, предобученная как раз для поиска токсичных комментариев (unitary/toxic-bert). Это предопределило итоговый результат - все модели показали достойный показатель f1 score, от 0,92 до 0,95 на тренировочной выборке, выделенной из основного датасета.\n",
    "\n",
    "Были обучены следующие модели:\n",
    "- LogisticRegression позволила добиться показателя 0.926 с гиперпараметром C = 1\n",
    "- DecisionTreeClassifier показала 0.927 с depth =19\n",
    "- CatBoostClassifier показал наивысший результат - 0.955 - на обучении с depth = 4 и learning_rate = 0.05\n",
    "- LGBMClassifier обучилась быстрее всех (меньше чем за 10 минут) с n_estimators = 1000 и max_bin = 100, f1 score = 0.943\n",
    "\n",
    "Последние 2 модели показали сходные результаты и были протестированы на тестовой выборке. LGBMClassifier показала наилучший результат, который превзошёл её же показатель на трейне - 0.946 - и именно эта модель рекомендуется для использования в целях классификации комментариев на позитивные и негативные."
   ]
  }
 ],
 "metadata": {
  "ExecuteTimeLog": [
   {
    "duration": 18913,
    "start_time": "2023-12-06T07:57:14.032Z"
   },
   {
    "duration": 2,
    "start_time": "2023-12-06T07:57:40.732Z"
   },
   {
    "duration": 171,
    "start_time": "2023-12-06T07:57:41.162Z"
   },
   {
    "duration": 1939,
    "start_time": "2023-12-06T07:58:10.052Z"
   },
   {
    "duration": 5,
    "start_time": "2023-12-06T07:58:15.781Z"
   },
   {
    "duration": 72,
    "start_time": "2023-12-06T07:58:16.900Z"
   },
   {
    "duration": 22,
    "start_time": "2023-12-06T07:58:17.904Z"
   },
   {
    "duration": 83,
    "start_time": "2023-12-06T07:58:19.007Z"
   },
   {
    "duration": 3,
    "start_time": "2023-12-06T07:58:21.796Z"
   },
   {
    "duration": 4,
    "start_time": "2023-12-06T07:58:31.898Z"
   },
   {
    "duration": 5,
    "start_time": "2023-12-06T07:58:44.648Z"
   },
   {
    "duration": 4,
    "start_time": "2023-12-06T07:58:54.558Z"
   },
   {
    "duration": 5,
    "start_time": "2023-12-06T07:58:59.424Z"
   },
   {
    "duration": 11,
    "start_time": "2023-12-08T06:42:37.607Z"
   },
   {
    "duration": 7,
    "start_time": "2023-12-08T06:42:59.453Z"
   },
   {
    "duration": 3,
    "start_time": "2023-12-08T06:43:04.639Z"
   },
   {
    "duration": 4,
    "start_time": "2023-12-08T06:43:17.176Z"
   },
   {
    "duration": 2154,
    "start_time": "2023-12-08T06:44:31.566Z"
   },
   {
    "duration": 3,
    "start_time": "2023-12-08T06:47:13.184Z"
   },
   {
    "duration": 3,
    "start_time": "2023-12-08T06:47:26.281Z"
   },
   {
    "duration": 4,
    "start_time": "2023-12-08T06:47:35.588Z"
   },
   {
    "duration": 4,
    "start_time": "2023-12-08T06:47:43.355Z"
   },
   {
    "duration": 3,
    "start_time": "2023-12-08T06:47:50.860Z"
   },
   {
    "duration": 3,
    "start_time": "2023-12-08T06:47:58.542Z"
   },
   {
    "duration": 3,
    "start_time": "2023-12-08T06:52:32.426Z"
   },
   {
    "duration": 9,
    "start_time": "2023-12-08T07:09:10.456Z"
   },
   {
    "duration": 3,
    "start_time": "2023-12-08T07:09:30.064Z"
   },
   {
    "duration": 5,
    "start_time": "2023-12-08T07:15:25.924Z"
   },
   {
    "duration": 3,
    "start_time": "2023-12-08T07:15:58.591Z"
   },
   {
    "duration": 4,
    "start_time": "2023-12-08T07:16:04.015Z"
   },
   {
    "duration": 4,
    "start_time": "2023-12-08T07:30:47.064Z"
   },
   {
    "duration": 243,
    "start_time": "2023-12-08T07:38:32.444Z"
   },
   {
    "duration": 5,
    "start_time": "2023-12-08T07:39:28.956Z"
   },
   {
    "duration": 3,
    "start_time": "2023-12-08T07:39:37.718Z"
   },
   {
    "duration": 4,
    "start_time": "2023-12-08T07:39:41.636Z"
   },
   {
    "duration": 6,
    "start_time": "2023-12-08T08:43:37.790Z"
   },
   {
    "duration": 9,
    "start_time": "2023-12-08T08:43:59.239Z"
   },
   {
    "duration": 4,
    "start_time": "2023-12-08T08:50:15.559Z"
   },
   {
    "duration": 4,
    "start_time": "2023-12-08T08:50:20.923Z"
   },
   {
    "duration": 5,
    "start_time": "2023-12-08T08:50:48.658Z"
   },
   {
    "duration": 4,
    "start_time": "2023-12-08T08:51:20.310Z"
   },
   {
    "duration": 100,
    "start_time": "2023-12-08T09:23:08.689Z"
   },
   {
    "duration": 6,
    "start_time": "2023-12-08T09:23:13.378Z"
   },
   {
    "duration": 4,
    "start_time": "2023-12-08T09:23:15.196Z"
   },
   {
    "duration": 5,
    "start_time": "2023-12-08T09:23:27.199Z"
   },
   {
    "duration": 6,
    "start_time": "2023-12-08T09:24:31.749Z"
   },
   {
    "duration": 7120,
    "start_time": "2023-12-08T09:24:33.919Z"
   },
   {
    "duration": 7,
    "start_time": "2023-12-08T09:27:14.687Z"
   },
   {
    "duration": 10623,
    "start_time": "2023-12-08T09:27:16.867Z"
   },
   {
    "duration": 4,
    "start_time": "2023-12-08T09:31:38.389Z"
   },
   {
    "duration": 9809,
    "start_time": "2023-12-08T09:31:46.685Z"
   },
   {
    "duration": 9866,
    "start_time": "2023-12-08T09:32:08.729Z"
   },
   {
    "duration": 7,
    "start_time": "2023-12-08T10:15:32.048Z"
   },
   {
    "duration": 7,
    "start_time": "2023-12-08T10:15:38.401Z"
   },
   {
    "duration": 4,
    "start_time": "2023-12-08T10:15:44.089Z"
   },
   {
    "duration": 4,
    "start_time": "2023-12-08T10:17:00.909Z"
   },
   {
    "duration": 3,
    "start_time": "2023-12-08T10:17:43.798Z"
   },
   {
    "duration": 5,
    "start_time": "2023-12-08T10:17:55.078Z"
   },
   {
    "duration": 3,
    "start_time": "2023-12-08T10:18:03.369Z"
   },
   {
    "duration": 3,
    "start_time": "2023-12-08T10:18:05.069Z"
   },
   {
    "duration": 3,
    "start_time": "2023-12-08T10:18:16.968Z"
   },
   {
    "duration": 4,
    "start_time": "2023-12-08T10:18:18.699Z"
   },
   {
    "duration": 4,
    "start_time": "2023-12-08T10:19:28.728Z"
   },
   {
    "duration": 4,
    "start_time": "2023-12-08T10:19:30.406Z"
   },
   {
    "duration": 2,
    "start_time": "2023-12-08T10:19:39.596Z"
   },
   {
    "duration": 4,
    "start_time": "2023-12-08T10:19:41.226Z"
   },
   {
    "duration": 3,
    "start_time": "2023-12-08T10:22:34.728Z"
   },
   {
    "duration": 4,
    "start_time": "2023-12-08T10:22:36.886Z"
   },
   {
    "duration": 4,
    "start_time": "2023-12-08T10:22:43.058Z"
   },
   {
    "duration": 4,
    "start_time": "2023-12-08T10:22:51.038Z"
   },
   {
    "duration": 4,
    "start_time": "2023-12-08T10:22:54.158Z"
   },
   {
    "duration": 4,
    "start_time": "2023-12-08T10:22:59.794Z"
   },
   {
    "duration": 5,
    "start_time": "2023-12-08T10:23:03.448Z"
   },
   {
    "duration": 4,
    "start_time": "2023-12-08T10:23:07.998Z"
   },
   {
    "duration": 4,
    "start_time": "2023-12-08T10:23:11.808Z"
   },
   {
    "duration": 4,
    "start_time": "2023-12-08T10:23:15.069Z"
   },
   {
    "duration": 4,
    "start_time": "2023-12-08T10:23:18.548Z"
   },
   {
    "duration": 3,
    "start_time": "2023-12-08T10:23:21.699Z"
   },
   {
    "duration": 4,
    "start_time": "2023-12-08T10:23:27.678Z"
   },
   {
    "duration": 4,
    "start_time": "2023-12-08T10:23:31.769Z"
   },
   {
    "duration": 4,
    "start_time": "2023-12-08T10:23:35.348Z"
   },
   {
    "duration": 3,
    "start_time": "2023-12-08T10:23:37.927Z"
   },
   {
    "duration": 5,
    "start_time": "2023-12-08T10:23:41.749Z"
   },
   {
    "duration": 4,
    "start_time": "2023-12-08T10:23:55.048Z"
   },
   {
    "duration": 3,
    "start_time": "2023-12-08T10:23:59.508Z"
   },
   {
    "duration": 4,
    "start_time": "2023-12-08T10:24:03.847Z"
   },
   {
    "duration": 3,
    "start_time": "2023-12-08T10:24:07.268Z"
   },
   {
    "duration": 5,
    "start_time": "2023-12-08T10:24:12.148Z"
   },
   {
    "duration": 4,
    "start_time": "2023-12-08T10:24:16.089Z"
   },
   {
    "duration": 6,
    "start_time": "2023-12-08T10:24:28.370Z"
   },
   {
    "duration": 4,
    "start_time": "2023-12-08T10:24:35.923Z"
   },
   {
    "duration": 4,
    "start_time": "2023-12-08T10:24:43.408Z"
   },
   {
    "duration": 4,
    "start_time": "2023-12-08T10:24:46.279Z"
   },
   {
    "duration": 3,
    "start_time": "2023-12-08T10:24:51.722Z"
   },
   {
    "duration": 4,
    "start_time": "2023-12-08T10:24:57.058Z"
   },
   {
    "duration": 4,
    "start_time": "2023-12-08T10:25:08.069Z"
   },
   {
    "duration": 4,
    "start_time": "2023-12-08T10:25:18.748Z"
   },
   {
    "duration": 4,
    "start_time": "2023-12-08T10:25:24.748Z"
   },
   {
    "duration": 5,
    "start_time": "2023-12-08T10:25:27.778Z"
   },
   {
    "duration": 4,
    "start_time": "2023-12-08T10:25:32.327Z"
   },
   {
    "duration": 4,
    "start_time": "2023-12-08T10:25:34.069Z"
   },
   {
    "duration": 4,
    "start_time": "2023-12-08T10:25:39.796Z"
   },
   {
    "duration": 3,
    "start_time": "2023-12-08T10:25:41.598Z"
   },
   {
    "duration": 4,
    "start_time": "2023-12-08T10:25:45.858Z"
   },
   {
    "duration": 4,
    "start_time": "2023-12-08T10:25:48.237Z"
   },
   {
    "duration": 4,
    "start_time": "2023-12-08T10:25:51.978Z"
   },
   {
    "duration": 3,
    "start_time": "2023-12-08T10:25:54.389Z"
   },
   {
    "duration": 6,
    "start_time": "2023-12-08T10:25:59.410Z"
   },
   {
    "duration": 4,
    "start_time": "2023-12-08T10:26:05.187Z"
   },
   {
    "duration": 4,
    "start_time": "2023-12-08T10:26:15.428Z"
   },
   {
    "duration": 4,
    "start_time": "2023-12-08T10:26:22.588Z"
   },
   {
    "duration": 4,
    "start_time": "2023-12-08T10:26:24.438Z"
   },
   {
    "duration": 4,
    "start_time": "2023-12-08T10:26:30.367Z"
   },
   {
    "duration": 4,
    "start_time": "2023-12-08T10:26:32.313Z"
   },
   {
    "duration": 4,
    "start_time": "2023-12-08T10:26:38.285Z"
   },
   {
    "duration": 4,
    "start_time": "2023-12-08T10:26:39.798Z"
   },
   {
    "duration": 3,
    "start_time": "2023-12-08T10:26:44.159Z"
   },
   {
    "duration": 4,
    "start_time": "2023-12-08T10:26:47.718Z"
   },
   {
    "duration": 4,
    "start_time": "2023-12-08T10:26:54.458Z"
   },
   {
    "duration": 4,
    "start_time": "2023-12-08T10:26:55.778Z"
   },
   {
    "duration": 3,
    "start_time": "2023-12-08T10:27:10.778Z"
   },
   {
    "duration": 3,
    "start_time": "2023-12-08T10:27:13.918Z"
   },
   {
    "duration": 3,
    "start_time": "2023-12-08T10:27:17.859Z"
   },
   {
    "duration": 4,
    "start_time": "2023-12-08T10:27:22.209Z"
   },
   {
    "duration": 3,
    "start_time": "2023-12-08T10:31:58.318Z"
   },
   {
    "duration": 3,
    "start_time": "2023-12-08T10:31:59.868Z"
   },
   {
    "duration": 7,
    "start_time": "2023-12-08T10:32:09.453Z"
   },
   {
    "duration": 3,
    "start_time": "2023-12-08T10:32:20.008Z"
   },
   {
    "duration": 7,
    "start_time": "2023-12-08T10:32:21.308Z"
   },
   {
    "duration": 2,
    "start_time": "2023-12-08T10:32:26.389Z"
   },
   {
    "duration": 4,
    "start_time": "2023-12-08T10:32:28.528Z"
   },
   {
    "duration": 4,
    "start_time": "2023-12-08T10:32:30.148Z"
   },
   {
    "duration": 892,
    "start_time": "2023-12-08T10:32:41.776Z"
   },
   {
    "duration": 3,
    "start_time": "2023-12-08T10:35:01.879Z"
   },
   {
    "duration": 4,
    "start_time": "2023-12-08T10:35:03.858Z"
   },
   {
    "duration": 4,
    "start_time": "2023-12-08T10:35:07.928Z"
   },
   {
    "duration": 921,
    "start_time": "2023-12-08T10:35:13.128Z"
   },
   {
    "duration": 11,
    "start_time": "2023-12-08T10:37:31.868Z"
   },
   {
    "duration": 10,
    "start_time": "2023-12-08T10:37:38.769Z"
   },
   {
    "duration": 8,
    "start_time": "2023-12-08T12:02:42.357Z"
   },
   {
    "duration": 6,
    "start_time": "2023-12-08T12:03:05.169Z"
   },
   {
    "duration": 6,
    "start_time": "2023-12-08T12:03:24.604Z"
   },
   {
    "duration": 74,
    "start_time": "2023-12-11T04:20:44.640Z"
   },
   {
    "duration": 81,
    "start_time": "2023-12-11T04:21:07.636Z"
   },
   {
    "duration": 72,
    "start_time": "2023-12-11T04:22:01.440Z"
   },
   {
    "duration": 39,
    "start_time": "2023-12-11T04:22:11.400Z"
   },
   {
    "duration": 12505,
    "start_time": "2023-12-11T04:22:18.960Z"
   },
   {
    "duration": 3920,
    "start_time": "2023-12-11T04:24:57.641Z"
   },
   {
    "duration": 72,
    "start_time": "2023-12-11T04:25:23.462Z"
   },
   {
    "duration": 1973,
    "start_time": "2023-12-11T04:25:28.208Z"
   },
   {
    "duration": 69,
    "start_time": "2023-12-11T04:36:52.252Z"
   },
   {
    "duration": 28801,
    "start_time": "2023-12-11T04:37:06.968Z"
   },
   {
    "duration": 24859,
    "start_time": "2023-12-11T04:37:41.822Z"
   },
   {
    "duration": 33588,
    "start_time": "2023-12-11T04:38:29.760Z"
   },
   {
    "duration": 22881,
    "start_time": "2023-12-11T04:39:41.720Z"
   },
   {
    "duration": 16964,
    "start_time": "2023-12-11T04:40:30.917Z"
   },
   {
    "duration": 16285,
    "start_time": "2023-12-11T04:41:15.120Z"
   },
   {
    "duration": 4240,
    "start_time": "2023-12-11T04:42:20.181Z"
   },
   {
    "duration": 16041,
    "start_time": "2023-12-11T04:42:37.200Z"
   },
   {
    "duration": 15840,
    "start_time": "2023-12-11T04:43:27.564Z"
   },
   {
    "duration": 17095,
    "start_time": "2023-12-11T04:44:16.168Z"
   },
   {
    "duration": 14222,
    "start_time": "2023-12-11T04:44:54.639Z"
   },
   {
    "duration": 15660,
    "start_time": "2023-12-11T04:46:02.325Z"
   },
   {
    "duration": 71,
    "start_time": "2023-12-11T05:02:57.438Z"
   },
   {
    "duration": 5259,
    "start_time": "2023-12-11T05:03:02.501Z"
   },
   {
    "duration": 2128,
    "start_time": "2023-12-11T05:03:13.280Z"
   },
   {
    "duration": 2621,
    "start_time": "2023-12-11T05:03:22.559Z"
   },
   {
    "duration": 3459,
    "start_time": "2023-12-11T05:04:00.800Z"
   },
   {
    "duration": 91,
    "start_time": "2023-12-11T06:29:57.993Z"
   },
   {
    "duration": 6337,
    "start_time": "2023-12-11T06:30:18.666Z"
   },
   {
    "duration": 3149,
    "start_time": "2023-12-11T06:30:51.630Z"
   },
   {
    "duration": 8594,
    "start_time": "2023-12-11T06:31:01.564Z"
   },
   {
    "duration": 3517,
    "start_time": "2023-12-11T06:31:12.856Z"
   },
   {
    "duration": 96,
    "start_time": "2023-12-11T06:31:33.298Z"
   },
   {
    "duration": 9919,
    "start_time": "2023-12-11T06:31:37.681Z"
   },
   {
    "duration": 3279,
    "start_time": "2023-12-11T06:32:05.338Z"
   },
   {
    "duration": 3197,
    "start_time": "2023-12-11T06:33:34.060Z"
   },
   {
    "duration": 3063,
    "start_time": "2023-12-11T06:34:41.059Z"
   },
   {
    "duration": 4203,
    "start_time": "2023-12-11T06:34:58.837Z"
   },
   {
    "duration": 3387,
    "start_time": "2023-12-11T06:35:06.996Z"
   },
   {
    "duration": 7763,
    "start_time": "2023-12-11T06:41:34.354Z"
   },
   {
    "duration": 3003,
    "start_time": "2023-12-11T06:42:39.476Z"
   },
   {
    "duration": 2282,
    "start_time": "2023-12-11T06:42:55.316Z"
   },
   {
    "duration": 2481,
    "start_time": "2023-12-11T06:47:09.716Z"
   },
   {
    "duration": 2962,
    "start_time": "2023-12-11T06:47:35.836Z"
   },
   {
    "duration": 2959,
    "start_time": "2023-12-11T06:48:25.598Z"
   },
   {
    "duration": 69,
    "start_time": "2023-12-11T06:49:03.340Z"
   },
   {
    "duration": 316985,
    "start_time": "2023-12-11T06:49:08.597Z"
   },
   {
    "duration": 0,
    "start_time": "2023-12-11T06:54:25.583Z"
   },
   {
    "duration": 2950,
    "start_time": "2023-12-11T06:54:27.237Z"
   },
   {
    "duration": 2791,
    "start_time": "2023-12-11T06:55:17.397Z"
   },
   {
    "duration": 2734,
    "start_time": "2023-12-11T06:55:44.718Z"
   },
   {
    "duration": 2785,
    "start_time": "2023-12-11T06:56:36.375Z"
   },
   {
    "duration": 1905,
    "start_time": "2023-12-11T06:57:07.078Z"
   },
   {
    "duration": 2623,
    "start_time": "2023-12-11T06:57:42.035Z"
   },
   {
    "duration": 2037,
    "start_time": "2023-12-11T06:57:57.647Z"
   },
   {
    "duration": 2674,
    "start_time": "2023-12-11T07:03:23.447Z"
   },
   {
    "duration": 2837,
    "start_time": "2023-12-11T07:05:59.757Z"
   },
   {
    "duration": 7124,
    "start_time": "2023-12-11T07:09:03.356Z"
   },
   {
    "duration": 2699,
    "start_time": "2023-12-11T07:11:06.321Z"
   },
   {
    "duration": 2104,
    "start_time": "2023-12-11T07:11:49.440Z"
   },
   {
    "duration": 1961,
    "start_time": "2023-12-11T07:12:54.120Z"
   },
   {
    "duration": 4082,
    "start_time": "2023-12-11T07:14:29.520Z"
   },
   {
    "duration": 1781,
    "start_time": "2023-12-11T07:15:06.260Z"
   },
   {
    "duration": 76,
    "start_time": "2023-12-11T07:41:58.848Z"
   },
   {
    "duration": 2922,
    "start_time": "2023-12-11T07:42:06.030Z"
   },
   {
    "duration": 3169,
    "start_time": "2023-12-11T07:42:14.832Z"
   },
   {
    "duration": 2419,
    "start_time": "2023-12-11T07:42:33.118Z"
   },
   {
    "duration": 3013,
    "start_time": "2023-12-11T07:44:28.360Z"
   },
   {
    "duration": 2134,
    "start_time": "2023-12-11T07:44:46.735Z"
   },
   {
    "duration": 75,
    "start_time": "2023-12-11T07:47:08.611Z"
   },
   {
    "duration": 2269,
    "start_time": "2023-12-11T07:47:20.721Z"
   },
   {
    "duration": 2839,
    "start_time": "2023-12-11T07:47:33.299Z"
   },
   {
    "duration": 3935,
    "start_time": "2023-12-11T07:56:16.608Z"
   },
   {
    "duration": 2935,
    "start_time": "2023-12-11T07:56:32.408Z"
   },
   {
    "duration": 2071,
    "start_time": "2023-12-11T07:56:41.322Z"
   },
   {
    "duration": 102,
    "start_time": "2023-12-11T08:00:56.115Z"
   },
   {
    "duration": 2842,
    "start_time": "2023-12-11T08:01:24.724Z"
   },
   {
    "duration": 2197,
    "start_time": "2023-12-11T08:02:31.471Z"
   },
   {
    "duration": 2771,
    "start_time": "2023-12-11T08:07:52.092Z"
   },
   {
    "duration": 3439,
    "start_time": "2023-12-11T08:08:01.913Z"
   },
   {
    "duration": 6,
    "start_time": "2023-12-11T08:17:09.114Z"
   },
   {
    "duration": 3,
    "start_time": "2023-12-11T08:18:39.511Z"
   },
   {
    "duration": 3,
    "start_time": "2023-12-11T08:18:42.593Z"
   },
   {
    "duration": 7,
    "start_time": "2023-12-11T08:42:29.390Z"
   },
   {
    "duration": 10432,
    "start_time": "2023-12-11T08:42:35.711Z"
   },
   {
    "duration": 3643,
    "start_time": "2023-12-11T08:42:55.990Z"
   },
   {
    "duration": 1520,
    "start_time": "2023-12-11T08:44:11.841Z"
   },
   {
    "duration": 5,
    "start_time": "2023-12-11T08:46:47.231Z"
   },
   {
    "duration": 2601,
    "start_time": "2023-12-11T08:46:52.461Z"
   },
   {
    "duration": 4264,
    "start_time": "2023-12-11T08:49:54.439Z"
   },
   {
    "duration": 3450,
    "start_time": "2023-12-11T08:51:02.549Z"
   },
   {
    "duration": 1071,
    "start_time": "2023-12-11T08:51:19.121Z"
   },
   {
    "duration": 1050,
    "start_time": "2023-12-11T08:51:27.021Z"
   },
   {
    "duration": 3180,
    "start_time": "2023-12-11T08:52:56.710Z"
   },
   {
    "duration": 1562,
    "start_time": "2023-12-18T08:42:28.861Z"
   },
   {
    "duration": 4728,
    "start_time": "2023-12-18T08:45:04.888Z"
   },
   {
    "duration": 2443,
    "start_time": "2023-12-18T08:46:28.269Z"
   },
   {
    "duration": 2558,
    "start_time": "2023-12-18T08:47:16.774Z"
   },
   {
    "duration": 1968,
    "start_time": "2023-12-18T08:47:51.436Z"
   },
   {
    "duration": 2064,
    "start_time": "2023-12-18T08:50:54.031Z"
   },
   {
    "duration": 2362,
    "start_time": "2023-12-18T08:51:10.995Z"
   },
   {
    "duration": 4065,
    "start_time": "2023-12-18T08:52:42.821Z"
   },
   {
    "duration": 2173,
    "start_time": "2023-12-18T08:57:06.230Z"
   },
   {
    "duration": 2298,
    "start_time": "2023-12-18T08:59:40.881Z"
   },
   {
    "duration": 2114,
    "start_time": "2023-12-18T09:00:05.461Z"
   },
   {
    "duration": 1932,
    "start_time": "2023-12-18T09:00:25.351Z"
   },
   {
    "duration": 1031,
    "start_time": "2023-12-18T09:00:37.825Z"
   },
   {
    "duration": 2132,
    "start_time": "2023-12-18T09:00:52.021Z"
   },
   {
    "duration": 7913,
    "start_time": "2023-12-18T09:01:31.462Z"
   },
   {
    "duration": 992,
    "start_time": "2023-12-18T09:02:39.160Z"
   },
   {
    "duration": 92,
    "start_time": "2023-12-18T09:05:09.486Z"
   },
   {
    "duration": 1150,
    "start_time": "2023-12-18T09:05:27.481Z"
   },
   {
    "duration": 1955,
    "start_time": "2023-12-18T09:06:24.760Z"
   },
   {
    "duration": 5866,
    "start_time": "2023-12-18T09:07:42.849Z"
   },
   {
    "duration": 4348,
    "start_time": "2023-12-18T09:09:40.639Z"
   },
   {
    "duration": 1182,
    "start_time": "2023-12-18T09:10:58.201Z"
   },
   {
    "duration": 991,
    "start_time": "2023-12-18T09:11:59.875Z"
   },
   {
    "duration": 2115,
    "start_time": "2023-12-18T09:12:05.601Z"
   },
   {
    "duration": 914,
    "start_time": "2023-12-18T09:12:22.119Z"
   },
   {
    "duration": 2599,
    "start_time": "2023-12-18T09:13:38.585Z"
   },
   {
    "duration": 2828,
    "start_time": "2023-12-18T09:14:11.885Z"
   },
   {
    "duration": 2750,
    "start_time": "2023-12-18T09:14:24.045Z"
   },
   {
    "duration": 859,
    "start_time": "2023-12-18T09:16:40.040Z"
   },
   {
    "duration": 839,
    "start_time": "2023-12-18T09:16:52.630Z"
   },
   {
    "duration": 2148,
    "start_time": "2023-12-18T09:17:30.194Z"
   },
   {
    "duration": 97,
    "start_time": "2023-12-18T09:18:41.589Z"
   },
   {
    "duration": 3382,
    "start_time": "2023-12-18T09:18:45.840Z"
   },
   {
    "duration": 1220,
    "start_time": "2023-12-18T09:47:06.483Z"
   },
   {
    "duration": 1941,
    "start_time": "2023-12-18T09:53:10.331Z"
   },
   {
    "duration": 2007,
    "start_time": "2023-12-18T10:07:27.375Z"
   },
   {
    "duration": 4194,
    "start_time": "2023-12-18T10:07:39.796Z"
   },
   {
    "duration": 2700,
    "start_time": "2023-12-18T10:08:55.420Z"
   },
   {
    "duration": 2582,
    "start_time": "2023-12-18T10:14:43.041Z"
   },
   {
    "duration": 2256,
    "start_time": "2023-12-18T10:28:11.631Z"
   },
   {
    "duration": 2254,
    "start_time": "2023-12-18T10:28:33.182Z"
   },
   {
    "duration": 4454,
    "start_time": "2023-12-18T10:29:25.032Z"
   },
   {
    "duration": 2076,
    "start_time": "2023-12-18T10:29:44.852Z"
   },
   {
    "duration": 1884,
    "start_time": "2023-12-18T10:30:16.622Z"
   },
   {
    "duration": 2467,
    "start_time": "2023-12-18T10:30:34.242Z"
   },
   {
    "duration": 4370,
    "start_time": "2023-12-18T10:30:59.204Z"
   },
   {
    "duration": 5844,
    "start_time": "2023-12-18T10:31:23.080Z"
   },
   {
    "duration": 6525,
    "start_time": "2023-12-18T10:41:52.433Z"
   },
   {
    "duration": 1318,
    "start_time": "2023-12-18T10:42:17.362Z"
   },
   {
    "duration": 4395,
    "start_time": "2023-12-18T10:42:52.282Z"
   },
   {
    "duration": 3871,
    "start_time": "2023-12-18T10:47:30.435Z"
   },
   {
    "duration": 3611,
    "start_time": "2023-12-18T10:48:12.929Z"
   },
   {
    "duration": 1392,
    "start_time": "2023-12-18T10:49:51.902Z"
   },
   {
    "duration": 1441,
    "start_time": "2023-12-18T10:50:01.332Z"
   },
   {
    "duration": 2051,
    "start_time": "2023-12-18T10:50:11.393Z"
   },
   {
    "duration": 2922,
    "start_time": "2023-12-18T10:51:19.912Z"
   },
   {
    "duration": 2623,
    "start_time": "2023-12-18T10:51:30.520Z"
   },
   {
    "duration": 2169,
    "start_time": "2023-12-18T10:51:37.634Z"
   },
   {
    "duration": 1928,
    "start_time": "2023-12-18T10:51:45.912Z"
   },
   {
    "duration": 4930,
    "start_time": "2023-12-18T10:51:58.913Z"
   },
   {
    "duration": 2162,
    "start_time": "2023-12-18T10:52:07.681Z"
   },
   {
    "duration": 1990,
    "start_time": "2023-12-18T10:52:35.372Z"
   },
   {
    "duration": 4246,
    "start_time": "2023-12-18T10:52:39.072Z"
   },
   {
    "duration": 4258,
    "start_time": "2023-12-18T10:53:28.982Z"
   },
   {
    "duration": 2141,
    "start_time": "2023-12-18T10:58:12.708Z"
   },
   {
    "duration": 2357,
    "start_time": "2023-12-18T10:58:16.248Z"
   },
   {
    "duration": 2358,
    "start_time": "2023-12-18T10:58:56.141Z"
   },
   {
    "duration": 5089,
    "start_time": "2023-12-18T10:59:01.759Z"
   },
   {
    "duration": 7296,
    "start_time": "2023-12-18T11:00:09.788Z"
   },
   {
    "duration": 5772,
    "start_time": "2023-12-18T11:00:32.959Z"
   },
   {
    "duration": 2552,
    "start_time": "2023-12-18T11:02:11.237Z"
   },
   {
    "duration": 57,
    "start_time": "2023-12-19T03:36:09.432Z"
   },
   {
    "duration": 13746,
    "start_time": "2023-12-19T03:36:15.433Z"
   },
   {
    "duration": 1557,
    "start_time": "2023-12-19T03:36:54.099Z"
   },
   {
    "duration": 1445,
    "start_time": "2023-12-19T03:37:26.257Z"
   },
   {
    "duration": 1740,
    "start_time": "2023-12-19T03:43:03.426Z"
   },
   {
    "duration": 1416,
    "start_time": "2023-12-19T03:43:31.478Z"
   },
   {
    "duration": 2535,
    "start_time": "2023-12-19T03:43:49.217Z"
   },
   {
    "duration": 1463,
    "start_time": "2023-12-19T03:44:56.913Z"
   },
   {
    "duration": 9496,
    "start_time": "2023-12-19T03:45:00.884Z"
   },
   {
    "duration": 793,
    "start_time": "2023-12-19T03:45:53.096Z"
   },
   {
    "duration": 2332,
    "start_time": "2023-12-19T03:46:07.264Z"
   },
   {
    "duration": 2362,
    "start_time": "2023-12-19T04:59:33.359Z"
   },
   {
    "duration": 9157,
    "start_time": "2023-12-19T04:59:37.885Z"
   },
   {
    "duration": 3098,
    "start_time": "2023-12-19T05:03:41.273Z"
   },
   {
    "duration": 1742,
    "start_time": "2023-12-19T05:03:57.668Z"
   },
   {
    "duration": 2601,
    "start_time": "2023-12-19T05:04:02.731Z"
   },
   {
    "duration": 1776,
    "start_time": "2023-12-19T05:04:41.916Z"
   },
   {
    "duration": 1668,
    "start_time": "2023-12-19T05:04:56.056Z"
   },
   {
    "duration": 2020,
    "start_time": "2023-12-19T05:14:41.514Z"
   },
   {
    "duration": 1691,
    "start_time": "2023-12-19T05:17:28.075Z"
   },
   {
    "duration": 1928,
    "start_time": "2023-12-19T05:17:44.137Z"
   },
   {
    "duration": 1404,
    "start_time": "2023-12-19T05:17:47.668Z"
   },
   {
    "duration": 2108,
    "start_time": "2023-12-19T05:17:53.273Z"
   },
   {
    "duration": 1993,
    "start_time": "2023-12-19T05:21:41.782Z"
   },
   {
    "duration": 2234,
    "start_time": "2023-12-19T05:21:45.767Z"
   },
   {
    "duration": 3773,
    "start_time": "2023-12-20T10:36:07.777Z"
   },
   {
    "duration": 4518,
    "start_time": "2023-12-20T10:36:27.662Z"
   },
   {
    "duration": 5153,
    "start_time": "2023-12-20T10:36:34.637Z"
   },
   {
    "duration": 4847,
    "start_time": "2023-12-20T10:37:14.591Z"
   },
   {
    "duration": 8882,
    "start_time": "2023-12-20T10:45:57.966Z"
   },
   {
    "duration": 3583,
    "start_time": "2023-12-20T10:49:58.965Z"
   },
   {
    "duration": 4491,
    "start_time": "2023-12-20T10:51:18.506Z"
   },
   {
    "duration": 3281,
    "start_time": "2023-12-20T10:55:53.543Z"
   },
   {
    "duration": 3120,
    "start_time": "2023-12-20T10:58:45.944Z"
   },
   {
    "duration": 3070,
    "start_time": "2023-12-20T10:59:00.833Z"
   },
   {
    "duration": 60,
    "start_time": "2023-12-20T11:16:01.991Z"
   },
   {
    "duration": 71,
    "start_time": "2023-12-21T09:30:44.939Z"
   },
   {
    "duration": 55,
    "start_time": "2023-12-21T09:30:51.441Z"
   },
   {
    "duration": 60,
    "start_time": "2023-12-21T09:31:18.423Z"
   },
   {
    "duration": 52,
    "start_time": "2023-12-21T09:31:28.127Z"
   },
   {
    "duration": 7225,
    "start_time": "2023-12-21T09:31:34.727Z"
   },
   {
    "duration": 1559,
    "start_time": "2023-12-21T09:31:53.392Z"
   },
   {
    "duration": 608,
    "start_time": "2023-12-21T09:31:56.544Z"
   },
   {
    "duration": 1137,
    "start_time": "2023-12-21T09:31:58.991Z"
   },
   {
    "duration": 1103,
    "start_time": "2023-12-21T09:32:02.704Z"
   },
   {
    "duration": 53,
    "start_time": "2023-12-21T09:32:13.415Z"
   },
   {
    "duration": 896,
    "start_time": "2023-12-21T09:32:17.327Z"
   },
   {
    "duration": 1007,
    "start_time": "2023-12-21T09:32:33.696Z"
   },
   {
    "duration": 928,
    "start_time": "2023-12-21T09:32:36.591Z"
   },
   {
    "duration": 512,
    "start_time": "2023-12-21T09:32:38.439Z"
   },
   {
    "duration": 4048,
    "start_time": "2023-12-21T09:32:39.895Z"
   },
   {
    "duration": 2967,
    "start_time": "2023-12-21T09:34:17.601Z"
   },
   {
    "duration": 1719,
    "start_time": "2023-12-21T09:35:27.562Z"
   },
   {
    "duration": 1496,
    "start_time": "2023-12-21T09:35:54.921Z"
   },
   {
    "duration": 1993,
    "start_time": "2023-12-21T09:36:06.089Z"
   },
   {
    "duration": 8,
    "start_time": "2023-12-21T09:36:33.361Z"
   },
   {
    "duration": 1679,
    "start_time": "2023-12-21T10:20:20.247Z"
   },
   {
    "duration": 1247,
    "start_time": "2023-12-21T10:20:29.998Z"
   },
   {
    "duration": 42,
    "start_time": "2023-12-21T10:30:48.389Z"
   },
   {
    "duration": 4,
    "start_time": "2023-12-21T10:31:52.765Z"
   },
   {
    "duration": 1089,
    "start_time": "2023-12-21T10:32:00.045Z"
   },
   {
    "duration": 7,
    "start_time": "2023-12-21T10:32:34.238Z"
   },
   {
    "duration": 923,
    "start_time": "2023-12-21T10:32:57.814Z"
   },
   {
    "duration": 1241,
    "start_time": "2023-12-21T10:33:15.543Z"
   },
   {
    "duration": 55,
    "start_time": "2023-12-21T10:34:28.120Z"
   },
   {
    "duration": 2000,
    "start_time": "2023-12-21T10:34:37.207Z"
   },
   {
    "duration": 2237,
    "start_time": "2023-12-21T10:44:26.400Z"
   },
   {
    "duration": 2168,
    "start_time": "2023-12-21T10:44:30.213Z"
   },
   {
    "duration": 1671,
    "start_time": "2023-12-21T10:45:01.095Z"
   },
   {
    "duration": 2167,
    "start_time": "2023-12-21T10:45:09.598Z"
   },
   {
    "duration": 1432,
    "start_time": "2023-12-21T10:45:14.350Z"
   },
   {
    "duration": 1208,
    "start_time": "2023-12-21T10:45:17.366Z"
   },
   {
    "duration": 1969,
    "start_time": "2023-12-21T10:45:19.701Z"
   },
   {
    "duration": 2616,
    "start_time": "2023-12-21T10:45:22.878Z"
   },
   {
    "duration": 2520,
    "start_time": "2023-12-21T10:45:26.838Z"
   },
   {
    "duration": 1920,
    "start_time": "2023-12-21T10:45:32.222Z"
   },
   {
    "duration": 42,
    "start_time": "2023-12-21T10:48:50.953Z"
   },
   {
    "duration": 2358,
    "start_time": "2023-12-22T09:34:52.873Z"
   },
   {
    "duration": 4360,
    "start_time": "2023-12-22T09:34:58.008Z"
   },
   {
    "duration": 59,
    "start_time": "2023-12-22T12:19:24.039Z"
   },
   {
    "duration": 19260,
    "start_time": "2023-12-22T12:19:47.357Z"
   },
   {
    "duration": 23483,
    "start_time": "2023-12-22T12:20:23.935Z"
   },
   {
    "duration": 0,
    "start_time": "2023-12-22T12:21:12.973Z"
   },
   {
    "duration": 15383,
    "start_time": "2023-12-22T12:21:14.007Z"
   },
   {
    "duration": 15994,
    "start_time": "2023-12-22T12:22:07.416Z"
   },
   {
    "duration": 4242,
    "start_time": "2023-12-22T12:22:42.517Z"
   },
   {
    "duration": 7809,
    "start_time": "2023-12-22T12:22:48.537Z"
   },
   {
    "duration": 8612,
    "start_time": "2023-12-22T12:22:58.046Z"
   },
   {
    "duration": 15071,
    "start_time": "2023-12-22T12:24:18.270Z"
   },
   {
    "duration": 6333,
    "start_time": "2023-12-22T12:25:03.627Z"
   },
   {
    "duration": 9602,
    "start_time": "2023-12-22T12:26:17.637Z"
   },
   {
    "duration": 5879,
    "start_time": "2023-12-22T12:26:50.807Z"
   },
   {
    "duration": 11882,
    "start_time": "2023-12-22T12:28:04.087Z"
   },
   {
    "duration": 14062,
    "start_time": "2023-12-22T12:50:32.427Z"
   },
   {
    "duration": 5214,
    "start_time": "2023-12-22T12:51:48.885Z"
   },
   {
    "duration": 2541,
    "start_time": "2023-12-22T12:52:09.638Z"
   },
   {
    "duration": 3052,
    "start_time": "2023-12-22T12:55:45.757Z"
   },
   {
    "duration": 3764,
    "start_time": "2023-12-22T12:55:50.882Z"
   },
   {
    "duration": 5091,
    "start_time": "2023-12-22T12:55:56.318Z"
   },
   {
    "duration": 3662,
    "start_time": "2023-12-23T05:02:10.920Z"
   },
   {
    "duration": 2139,
    "start_time": "2023-12-23T05:02:27.219Z"
   },
   {
    "duration": 1956,
    "start_time": "2023-12-23T05:02:31.422Z"
   },
   {
    "duration": 791,
    "start_time": "2023-12-23T05:02:36.463Z"
   },
   {
    "duration": 488,
    "start_time": "2023-12-23T05:02:38.138Z"
   },
   {
    "duration": 1348,
    "start_time": "2023-12-23T05:02:39.378Z"
   },
   {
    "duration": 1004,
    "start_time": "2023-12-23T05:02:41.502Z"
   },
   {
    "duration": 15506,
    "start_time": "2023-12-23T07:41:47.032Z"
   },
   {
    "duration": 2484,
    "start_time": "2023-12-23T07:42:41.317Z"
   },
   {
    "duration": 2530,
    "start_time": "2023-12-23T07:42:59.528Z"
   },
   {
    "duration": 2041,
    "start_time": "2023-12-23T07:44:17.983Z"
   },
   {
    "duration": 2938,
    "start_time": "2023-12-23T07:44:39.066Z"
   },
   {
    "duration": 4417,
    "start_time": "2023-12-23T07:44:48.272Z"
   },
   {
    "duration": 81,
    "start_time": "2023-12-23T07:45:36.160Z"
   },
   {
    "duration": 2705,
    "start_time": "2023-12-23T07:45:42.163Z"
   },
   {
    "duration": 3359,
    "start_time": "2023-12-23T07:46:15.457Z"
   },
   {
    "duration": 3490,
    "start_time": "2023-12-23T07:46:53.074Z"
   },
   {
    "duration": 2477,
    "start_time": "2023-12-23T07:46:57.917Z"
   },
   {
    "duration": 1164,
    "start_time": "2023-12-23T07:47:03.256Z"
   },
   {
    "duration": 2905,
    "start_time": "2023-12-23T07:47:45.047Z"
   },
   {
    "duration": 2329,
    "start_time": "2023-12-23T07:48:48.769Z"
   },
   {
    "duration": 6470,
    "start_time": "2023-12-23T07:50:37.687Z"
   },
   {
    "duration": 2677,
    "start_time": "2023-12-23T07:52:52.031Z"
   },
   {
    "duration": 7303,
    "start_time": "2023-12-23T07:53:06.233Z"
   },
   {
    "duration": 1297,
    "start_time": "2023-12-24T03:46:09.955Z"
   },
   {
    "duration": 2396,
    "start_time": "2023-12-24T03:46:20.565Z"
   },
   {
    "duration": 6871,
    "start_time": "2023-12-24T03:51:32.151Z"
   },
   {
    "duration": 5249,
    "start_time": "2023-12-24T03:51:46.847Z"
   },
   {
    "duration": 4604,
    "start_time": "2023-12-24T03:51:54.339Z"
   },
   {
    "duration": 5564,
    "start_time": "2023-12-24T03:52:03.430Z"
   },
   {
    "duration": 1922,
    "start_time": "2023-12-24T03:56:50.117Z"
   },
   {
    "duration": 2636,
    "start_time": "2023-12-24T03:56:57.186Z"
   },
   {
    "duration": 4171,
    "start_time": "2023-12-24T05:06:08.245Z"
   },
   {
    "duration": 2977,
    "start_time": "2023-12-24T05:06:25.853Z"
   },
   {
    "duration": 4667,
    "start_time": "2023-12-24T05:06:44.093Z"
   },
   {
    "duration": 4712,
    "start_time": "2023-12-24T05:07:05.850Z"
   },
   {
    "duration": 3229,
    "start_time": "2023-12-24T05:08:15.105Z"
   },
   {
    "duration": 3778,
    "start_time": "2023-12-24T05:09:08.454Z"
   },
   {
    "duration": 3376,
    "start_time": "2023-12-24T05:10:20.070Z"
   },
   {
    "duration": 3519,
    "start_time": "2023-12-24T05:10:53.715Z"
   },
   {
    "duration": 4360,
    "start_time": "2023-12-24T05:11:37.047Z"
   },
   {
    "duration": 3457,
    "start_time": "2023-12-24T05:12:04.462Z"
   },
   {
    "duration": 6104,
    "start_time": "2023-12-24T05:13:29.746Z"
   },
   {
    "duration": 1902,
    "start_time": "2023-12-24T05:14:09.695Z"
   },
   {
    "duration": 3739,
    "start_time": "2023-12-24T05:14:17.835Z"
   },
   {
    "duration": 3134,
    "start_time": "2023-12-24T05:14:44.094Z"
   },
   {
    "duration": 5205,
    "start_time": "2023-12-24T05:14:55.709Z"
   },
   {
    "duration": 4765,
    "start_time": "2023-12-24T05:16:14.364Z"
   },
   {
    "duration": 5248,
    "start_time": "2023-12-24T05:17:11.605Z"
   },
   {
    "duration": 3085,
    "start_time": "2023-12-24T05:17:42.576Z"
   },
   {
    "duration": 2896,
    "start_time": "2023-12-24T05:18:38.844Z"
   },
   {
    "duration": 3722,
    "start_time": "2023-12-24T05:19:07.709Z"
   },
   {
    "duration": 3363,
    "start_time": "2023-12-24T05:19:50.596Z"
   },
   {
    "duration": 3062,
    "start_time": "2023-12-24T05:20:00.058Z"
   },
   {
    "duration": 3215,
    "start_time": "2023-12-24T05:20:05.392Z"
   },
   {
    "duration": 2932,
    "start_time": "2023-12-24T05:20:51.855Z"
   },
   {
    "duration": 2618,
    "start_time": "2023-12-24T05:21:02.435Z"
   },
   {
    "duration": 2701,
    "start_time": "2023-12-24T05:21:10.223Z"
   },
   {
    "duration": 2891,
    "start_time": "2023-12-24T05:21:15.191Z"
   },
   {
    "duration": 2279,
    "start_time": "2023-12-24T05:21:27.019Z"
   },
   {
    "duration": 4465,
    "start_time": "2023-12-24T05:21:31.630Z"
   },
   {
    "duration": 3624,
    "start_time": "2023-12-24T05:21:54.916Z"
   },
   {
    "duration": 4716,
    "start_time": "2023-12-24T05:22:11.050Z"
   },
   {
    "duration": 2955,
    "start_time": "2023-12-24T05:22:37.220Z"
   },
   {
    "duration": 3299,
    "start_time": "2023-12-24T05:23:13.776Z"
   },
   {
    "duration": 2860,
    "start_time": "2023-12-24T05:24:01.585Z"
   },
   {
    "duration": 3079,
    "start_time": "2023-12-24T05:24:06.988Z"
   },
   {
    "duration": 2271,
    "start_time": "2023-12-24T05:24:16.763Z"
   },
   {
    "duration": 1685,
    "start_time": "2023-12-24T05:24:30.842Z"
   },
   {
    "duration": 1955,
    "start_time": "2023-12-24T05:24:54.447Z"
   },
   {
    "duration": 1776,
    "start_time": "2023-12-24T05:25:20.620Z"
   },
   {
    "duration": 1634,
    "start_time": "2023-12-24T05:25:44.139Z"
   },
   {
    "duration": 1998,
    "start_time": "2023-12-24T05:25:47.127Z"
   },
   {
    "duration": 2881,
    "start_time": "2023-12-24T05:25:52.420Z"
   },
   {
    "duration": 5143,
    "start_time": "2023-12-24T05:25:56.606Z"
   },
   {
    "duration": 3595,
    "start_time": "2023-12-24T05:26:03.422Z"
   },
   {
    "duration": 2667,
    "start_time": "2023-12-24T05:26:19.099Z"
   },
   {
    "duration": 5191,
    "start_time": "2023-12-24T05:26:39.776Z"
   },
   {
    "duration": 4642,
    "start_time": "2023-12-24T05:26:48.067Z"
   },
   {
    "duration": 4946,
    "start_time": "2023-12-24T05:27:00.611Z"
   },
   {
    "duration": 85,
    "start_time": "2023-12-24T05:29:00.972Z"
   },
   {
    "duration": 5102,
    "start_time": "2023-12-24T05:29:06.166Z"
   },
   {
    "duration": 3834,
    "start_time": "2023-12-24T05:30:07.594Z"
   },
   {
    "duration": 8182,
    "start_time": "2023-12-24T05:30:36.042Z"
   },
   {
    "duration": 5533,
    "start_time": "2023-12-24T05:32:04.259Z"
   },
   {
    "duration": 3714,
    "start_time": "2023-12-24T05:32:19.107Z"
   },
   {
    "duration": 5622,
    "start_time": "2023-12-24T05:32:40.738Z"
   },
   {
    "duration": 4477,
    "start_time": "2023-12-24T05:32:54.698Z"
   },
   {
    "duration": 4380,
    "start_time": "2023-12-24T05:33:38.998Z"
   },
   {
    "duration": 3695,
    "start_time": "2023-12-24T05:33:55.930Z"
   },
   {
    "duration": 3742,
    "start_time": "2023-12-24T05:34:05.344Z"
   },
   {
    "duration": 7663,
    "start_time": "2023-12-24T05:34:58.747Z"
   },
   {
    "duration": 3652,
    "start_time": "2023-12-24T05:35:23.098Z"
   },
   {
    "duration": 3377,
    "start_time": "2023-12-24T05:35:34.274Z"
   },
   {
    "duration": 4648,
    "start_time": "2023-12-24T05:35:49.557Z"
   },
   {
    "duration": 3892,
    "start_time": "2023-12-24T05:37:06.833Z"
   },
   {
    "duration": 4496,
    "start_time": "2023-12-24T05:37:11.425Z"
   },
   {
    "duration": 3864,
    "start_time": "2023-12-24T05:37:27.389Z"
   },
   {
    "duration": 4141,
    "start_time": "2023-12-24T05:37:40.901Z"
   },
   {
    "duration": 2545,
    "start_time": "2023-12-24T05:38:59.036Z"
   },
   {
    "duration": 2481,
    "start_time": "2023-12-24T05:39:09.524Z"
   },
   {
    "duration": 2420,
    "start_time": "2023-12-24T05:39:13.350Z"
   },
   {
    "duration": 2474,
    "start_time": "2023-12-24T05:39:25.320Z"
   },
   {
    "duration": 4081,
    "start_time": "2023-12-24T05:39:31.944Z"
   },
   {
    "duration": 3101,
    "start_time": "2023-12-24T05:39:37.424Z"
   },
   {
    "duration": 2828,
    "start_time": "2023-12-24T05:39:45.288Z"
   },
   {
    "duration": 1855,
    "start_time": "2023-12-24T05:41:02.340Z"
   },
   {
    "duration": 1865,
    "start_time": "2023-12-24T05:41:06.476Z"
   },
   {
    "duration": 3348,
    "start_time": "2023-12-24T05:41:10.432Z"
   },
   {
    "duration": 5985,
    "start_time": "2023-12-24T05:43:07.508Z"
   },
   {
    "duration": 2847,
    "start_time": "2023-12-24T05:43:15.934Z"
   },
   {
    "duration": 5587,
    "start_time": "2023-12-24T05:43:33.132Z"
   },
   {
    "duration": 3171,
    "start_time": "2023-12-24T05:45:45.079Z"
   },
   {
    "duration": 2746,
    "start_time": "2023-12-24T05:47:33.470Z"
   },
   {
    "duration": 14941,
    "start_time": "2023-12-29T04:22:11.023Z"
   },
   {
    "duration": 4120,
    "start_time": "2023-12-29T04:22:48.442Z"
   },
   {
    "duration": 6670,
    "start_time": "2023-12-29T04:22:55.813Z"
   },
   {
    "duration": 3528,
    "start_time": "2023-12-29T04:23:53.024Z"
   },
   {
    "duration": 1319,
    "start_time": "2023-12-29T04:24:16.376Z"
   },
   {
    "duration": 2074,
    "start_time": "2023-12-29T04:24:21.589Z"
   },
   {
    "duration": 1682,
    "start_time": "2023-12-29T04:24:25.542Z"
   },
   {
    "duration": 3806,
    "start_time": "2023-12-29T04:24:29.268Z"
   },
   {
    "duration": 3271,
    "start_time": "2023-12-29T04:24:35.089Z"
   },
   {
    "duration": 1814,
    "start_time": "2023-12-29T04:25:34.049Z"
   },
   {
    "duration": 2165,
    "start_time": "2023-12-29T04:25:37.921Z"
   },
   {
    "duration": 2170,
    "start_time": "2023-12-29T04:25:43.173Z"
   },
   {
    "duration": 3582,
    "start_time": "2023-12-29T04:25:47.829Z"
   },
   {
    "duration": 2105,
    "start_time": "2023-12-29T04:27:18.715Z"
   },
   {
    "duration": 9018,
    "start_time": "2023-12-29T04:33:54.758Z"
   },
   {
    "duration": 9412,
    "start_time": "2023-12-29T04:34:05.991Z"
   },
   {
    "duration": 3046,
    "start_time": "2023-12-29T04:36:09.062Z"
   },
   {
    "duration": 3397,
    "start_time": "2023-12-29T04:36:45.330Z"
   },
   {
    "duration": 5247,
    "start_time": "2023-12-29T04:37:10.082Z"
   },
   {
    "duration": 3088,
    "start_time": "2023-12-29T04:37:26.206Z"
   },
   {
    "duration": 4059,
    "start_time": "2023-12-29T04:37:43.559Z"
   },
   {
    "duration": 2239,
    "start_time": "2023-12-29T04:37:54.655Z"
   },
   {
    "duration": 5105,
    "start_time": "2023-12-29T04:45:19.747Z"
   },
   {
    "duration": 7921,
    "start_time": "2023-12-29T04:47:17.730Z"
   },
   {
    "duration": 1750,
    "start_time": "2023-12-29T04:47:32.333Z"
   },
   {
    "duration": 949,
    "start_time": "2023-12-29T04:47:45.023Z"
   },
   {
    "duration": 1684,
    "start_time": "2023-12-29T04:48:40.517Z"
   },
   {
    "duration": 2894,
    "start_time": "2023-12-29T04:49:17.402Z"
   },
   {
    "duration": 3165,
    "start_time": "2023-12-29T04:50:06.642Z"
   },
   {
    "duration": 8134,
    "start_time": "2023-12-29T04:52:22.362Z"
   },
   {
    "duration": 2181,
    "start_time": "2023-12-29T04:52:39.008Z"
   },
   {
    "duration": 2875,
    "start_time": "2023-12-29T05:35:44.064Z"
   },
   {
    "duration": 821,
    "start_time": "2023-12-29T05:35:59.283Z"
   },
   {
    "duration": 2961,
    "start_time": "2023-12-29T05:36:01.964Z"
   },
   {
    "duration": 1290,
    "start_time": "2023-12-29T05:36:08.564Z"
   },
   {
    "duration": 7035,
    "start_time": "2023-12-29T05:38:30.980Z"
   },
   {
    "duration": 9378,
    "start_time": "2023-12-29T05:38:50.564Z"
   },
   {
    "duration": 0,
    "start_time": "2023-12-29T05:39:32.967Z"
   },
   {
    "duration": 3270,
    "start_time": "2023-12-29T05:39:34.231Z"
   },
   {
    "duration": 5873,
    "start_time": "2023-12-29T05:39:54.044Z"
   },
   {
    "duration": 3225,
    "start_time": "2023-12-29T05:40:47.364Z"
   },
   {
    "duration": 3330,
    "start_time": "2023-12-29T05:41:13.600Z"
   },
   {
    "duration": 3092,
    "start_time": "2023-12-29T05:45:20.262Z"
   },
   {
    "duration": 2977,
    "start_time": "2023-12-29T05:45:40.466Z"
   },
   {
    "duration": 106,
    "start_time": "2023-12-29T05:49:41.903Z"
   },
   {
    "duration": 2946,
    "start_time": "2023-12-29T05:49:48.349Z"
   },
   {
    "duration": 4047,
    "start_time": "2023-12-29T05:50:20.566Z"
   },
   {
    "duration": 3616,
    "start_time": "2023-12-29T05:51:10.110Z"
   },
   {
    "duration": 2803,
    "start_time": "2023-12-29T05:51:52.960Z"
   },
   {
    "duration": 8324,
    "start_time": "2023-12-29T05:52:18.393Z"
   },
   {
    "duration": 3634,
    "start_time": "2023-12-29T05:55:22.932Z"
   },
   {
    "duration": 1860,
    "start_time": "2023-12-29T05:55:42.960Z"
   },
   {
    "duration": 15938,
    "start_time": "2023-12-29T05:55:54.339Z"
   },
   {
    "duration": 79,
    "start_time": "2023-12-29T06:54:57.516Z"
   },
   {
    "duration": 0,
    "start_time": "2023-12-29T06:55:39.463Z"
   },
   {
    "duration": 17521,
    "start_time": "2023-12-29T06:55:40.835Z"
   },
   {
    "duration": 26063,
    "start_time": "2023-12-29T06:56:10.516Z"
   },
   {
    "duration": 33590,
    "start_time": "2023-12-29T07:01:00.345Z"
   },
   {
    "duration": 16461,
    "start_time": "2023-12-29T07:01:39.896Z"
   },
   {
    "duration": 12355,
    "start_time": "2023-12-29T07:02:03.949Z"
   },
   {
    "duration": 16522,
    "start_time": "2023-12-29T07:02:22.354Z"
   },
   {
    "duration": 9,
    "start_time": "2023-12-29T07:15:40.821Z"
   },
   {
    "duration": 3,
    "start_time": "2023-12-29T07:15:44.323Z"
   },
   {
    "duration": 5,
    "start_time": "2023-12-29T08:20:13.703Z"
   },
   {
    "duration": 78,
    "start_time": "2023-12-29T08:22:09.812Z"
   },
   {
    "duration": 5640,
    "start_time": "2023-12-29T08:22:13.973Z"
   },
   {
    "duration": 3064,
    "start_time": "2023-12-29T08:23:05.230Z"
   },
   {
    "duration": 3031,
    "start_time": "2023-12-29T08:23:37.863Z"
   },
   {
    "duration": 2932,
    "start_time": "2023-12-29T08:24:31.722Z"
   },
   {
    "duration": 2719,
    "start_time": "2023-12-29T08:24:44.615Z"
   },
   {
    "duration": 3332,
    "start_time": "2023-12-29T08:24:57.222Z"
   },
   {
    "duration": 2683,
    "start_time": "2023-12-29T08:25:12.633Z"
   },
   {
    "duration": 2571,
    "start_time": "2023-12-29T08:25:49.573Z"
   },
   {
    "duration": 3401,
    "start_time": "2023-12-29T08:26:05.281Z"
   },
   {
    "duration": 3105,
    "start_time": "2023-12-29T08:26:30.252Z"
   },
   {
    "duration": 2887,
    "start_time": "2023-12-29T08:27:04.150Z"
   },
   {
    "duration": 4354,
    "start_time": "2023-12-29T08:27:13.741Z"
   },
   {
    "duration": 3394,
    "start_time": "2023-12-29T08:27:27.152Z"
   },
   {
    "duration": 3038,
    "start_time": "2023-12-29T08:28:07.217Z"
   },
   {
    "duration": 2288,
    "start_time": "2023-12-29T08:28:20.072Z"
   },
   {
    "duration": 3424,
    "start_time": "2023-12-29T08:29:15.371Z"
   },
   {
    "duration": 2802,
    "start_time": "2023-12-29T08:29:30.223Z"
   },
   {
    "duration": 2722,
    "start_time": "2023-12-29T08:31:05.133Z"
   },
   {
    "duration": 3411,
    "start_time": "2023-12-29T08:31:32.424Z"
   },
   {
    "duration": 2723,
    "start_time": "2023-12-29T08:31:41.581Z"
   },
   {
    "duration": 2589,
    "start_time": "2023-12-29T08:31:49.503Z"
   },
   {
    "duration": 2772,
    "start_time": "2023-12-29T08:32:02.544Z"
   },
   {
    "duration": 2537,
    "start_time": "2023-12-29T08:32:15.869Z"
   },
   {
    "duration": 2903,
    "start_time": "2023-12-29T08:35:47.112Z"
   },
   {
    "duration": 3371,
    "start_time": "2023-12-29T08:36:30.663Z"
   },
   {
    "duration": 5156,
    "start_time": "2023-12-29T08:37:19.812Z"
   },
   {
    "duration": 2576,
    "start_time": "2023-12-29T08:37:40.820Z"
   },
   {
    "duration": 3238,
    "start_time": "2023-12-29T08:38:51.742Z"
   },
   {
    "duration": 1351,
    "start_time": "2023-12-29T08:39:01.346Z"
   },
   {
    "duration": 1872,
    "start_time": "2023-12-29T08:39:09.942Z"
   },
   {
    "duration": 2426,
    "start_time": "2023-12-29T08:39:15.144Z"
   },
   {
    "duration": 1772,
    "start_time": "2023-12-29T08:39:51.152Z"
   },
   {
    "duration": 3982,
    "start_time": "2023-12-29T08:40:15.312Z"
   },
   {
    "duration": 2593,
    "start_time": "2023-12-29T08:41:03.211Z"
   },
   {
    "duration": 2011,
    "start_time": "2023-12-29T08:41:33.403Z"
   },
   {
    "duration": 1788,
    "start_time": "2023-12-29T08:41:50.763Z"
   },
   {
    "duration": 1721,
    "start_time": "2023-12-29T08:42:20.043Z"
   },
   {
    "duration": 3804,
    "start_time": "2023-12-29T08:49:07.810Z"
   },
   {
    "duration": 3717,
    "start_time": "2023-12-29T08:49:17.767Z"
   },
   {
    "duration": 4575,
    "start_time": "2023-12-29T08:49:38.082Z"
   },
   {
    "duration": 3373,
    "start_time": "2023-12-29T08:50:08.292Z"
   },
   {
    "duration": 4121,
    "start_time": "2023-12-29T08:50:32.763Z"
   },
   {
    "duration": 2939,
    "start_time": "2023-12-29T08:51:03.103Z"
   },
   {
    "duration": 4153,
    "start_time": "2023-12-29T08:51:44.801Z"
   },
   {
    "duration": 4084,
    "start_time": "2023-12-29T08:51:57.860Z"
   },
   {
    "duration": 2912,
    "start_time": "2023-12-29T08:52:38.182Z"
   },
   {
    "duration": 3426,
    "start_time": "2023-12-29T08:53:58.972Z"
   },
   {
    "duration": 2732,
    "start_time": "2023-12-29T08:54:27.192Z"
   },
   {
    "duration": 2986,
    "start_time": "2023-12-29T08:54:38.332Z"
   },
   {
    "duration": 2798,
    "start_time": "2023-12-29T08:55:17.776Z"
   },
   {
    "duration": 4530,
    "start_time": "2023-12-29T08:55:39.363Z"
   },
   {
    "duration": 2390,
    "start_time": "2023-12-29T08:56:00.833Z"
   },
   {
    "duration": 2492,
    "start_time": "2023-12-29T08:56:10.042Z"
   },
   {
    "duration": 2900,
    "start_time": "2023-12-29T08:56:23.343Z"
   },
   {
    "duration": 3861,
    "start_time": "2023-12-29T08:56:30.443Z"
   },
   {
    "duration": 2791,
    "start_time": "2023-12-29T08:57:48.342Z"
   },
   {
    "duration": 4252,
    "start_time": "2023-12-29T08:57:57.412Z"
   },
   {
    "duration": 5139,
    "start_time": "2023-12-29T08:58:47.664Z"
   },
   {
    "duration": 4280,
    "start_time": "2023-12-29T08:58:55.334Z"
   },
   {
    "duration": 1861,
    "start_time": "2023-12-29T08:59:01.712Z"
   },
   {
    "duration": 2657,
    "start_time": "2023-12-29T08:59:06.398Z"
   },
   {
    "duration": 3002,
    "start_time": "2023-12-29T09:33:00.322Z"
   },
   {
    "duration": 2304,
    "start_time": "2023-12-29T09:33:42.332Z"
   },
   {
    "duration": 2754,
    "start_time": "2023-12-29T09:33:50.911Z"
   },
   {
    "duration": 81,
    "start_time": "2023-12-29T09:34:25.783Z"
   },
   {
    "duration": 81,
    "start_time": "2023-12-29T09:34:44.765Z"
   },
   {
    "duration": 73,
    "start_time": "2023-12-29T09:34:56.660Z"
   },
   {
    "duration": 3262,
    "start_time": "2023-12-29T09:35:10.532Z"
   },
   {
    "duration": 3144,
    "start_time": "2023-12-29T09:35:16.430Z"
   },
   {
    "duration": 2281,
    "start_time": "2023-12-29T09:35:28.463Z"
   },
   {
    "duration": 2101,
    "start_time": "2023-12-29T09:35:33.332Z"
   },
   {
    "duration": 2695,
    "start_time": "2023-12-29T09:36:20.790Z"
   },
   {
    "duration": 3023,
    "start_time": "2023-12-29T09:36:41.812Z"
   },
   {
    "duration": 3924,
    "start_time": "2023-12-29T09:36:56.962Z"
   },
   {
    "duration": 3241,
    "start_time": "2023-12-29T09:47:50.222Z"
   },
   {
    "duration": 2954,
    "start_time": "2023-12-29T09:47:55.010Z"
   },
   {
    "duration": 4321,
    "start_time": "2023-12-30T05:24:23.223Z"
   },
   {
    "duration": 3830,
    "start_time": "2023-12-30T05:25:59.403Z"
   },
   {
    "duration": 76,
    "start_time": "2023-12-30T05:30:56.894Z"
   },
   {
    "duration": 7039,
    "start_time": "2023-12-30T05:33:23.091Z"
   },
   {
    "duration": 15661,
    "start_time": "2023-12-30T05:34:36.008Z"
   },
   {
    "duration": 8086,
    "start_time": "2023-12-30T05:35:07.178Z"
   },
   {
    "duration": 5451,
    "start_time": "2023-12-30T05:36:04.241Z"
   },
   {
    "duration": 12803,
    "start_time": "2023-12-30T05:36:22.614Z"
   },
   {
    "duration": 5605,
    "start_time": "2023-12-30T05:37:06.382Z"
   },
   {
    "duration": 7842,
    "start_time": "2023-12-30T05:38:47.306Z"
   },
   {
    "duration": 7707,
    "start_time": "2023-12-30T05:39:12.264Z"
   },
   {
    "duration": 11656,
    "start_time": "2024-01-06T05:10:17.813Z"
   },
   {
    "duration": 4203,
    "start_time": "2024-01-06T05:11:34.361Z"
   },
   {
    "duration": 3394,
    "start_time": "2024-01-06T05:12:05.662Z"
   },
   {
    "duration": 2261,
    "start_time": "2024-01-06T05:18:38.944Z"
   },
   {
    "duration": 3307,
    "start_time": "2024-01-06T05:19:18.718Z"
   },
   {
    "duration": 2791,
    "start_time": "2024-01-06T05:19:29.688Z"
   },
   {
    "duration": 36541,
    "start_time": "2024-01-06T05:44:16.707Z"
   },
   {
    "duration": 798,
    "start_time": "2024-01-06T05:45:16.955Z"
   },
   {
    "duration": 10649,
    "start_time": "2024-01-06T05:45:19.782Z"
   },
   {
    "duration": 739,
    "start_time": "2024-01-06T05:45:40.390Z"
   },
   {
    "duration": 8309,
    "start_time": "2024-01-06T05:45:41.954Z"
   },
   {
    "duration": 76,
    "start_time": "2024-01-06T05:46:18.309Z"
   },
   {
    "duration": 6956,
    "start_time": "2024-01-06T05:46:57.498Z"
   },
   {
    "duration": 9182,
    "start_time": "2024-01-06T05:47:42.302Z"
   },
   {
    "duration": 5744,
    "start_time": "2024-01-06T05:48:12.961Z"
   },
   {
    "duration": 5350,
    "start_time": "2024-01-06T05:48:40.692Z"
   },
   {
    "duration": 7013,
    "start_time": "2024-01-06T05:49:09.369Z"
   },
   {
    "duration": 6833,
    "start_time": "2024-01-06T05:49:30.176Z"
   },
   {
    "duration": 3048,
    "start_time": "2024-01-06T05:49:59.950Z"
   },
   {
    "duration": 990,
    "start_time": "2024-01-06T05:50:13.675Z"
   },
   {
    "duration": 3,
    "start_time": "2024-01-06T05:55:38.966Z"
   },
   {
    "duration": 5,
    "start_time": "2024-01-06T05:57:01.714Z"
   },
   {
    "duration": 3,
    "start_time": "2024-01-06T05:58:25.730Z"
   },
   {
    "duration": 6333,
    "start_time": "2024-01-06T06:00:53.639Z"
   },
   {
    "duration": 0,
    "start_time": "2024-01-06T06:00:59.974Z"
   },
   {
    "duration": 8,
    "start_time": "2024-01-06T06:01:09.551Z"
   },
   {
    "duration": 3017,
    "start_time": "2024-01-06T06:01:40.948Z"
   },
   {
    "duration": 2402,
    "start_time": "2024-01-06T06:01:52.976Z"
   },
   {
    "duration": 1945,
    "start_time": "2024-01-06T06:02:13.372Z"
   },
   {
    "duration": 2088,
    "start_time": "2024-01-06T06:02:34.387Z"
   },
   {
    "duration": 2173,
    "start_time": "2024-01-06T06:02:57.991Z"
   },
   {
    "duration": 1801,
    "start_time": "2024-01-06T06:03:18.927Z"
   },
   {
    "duration": 2390,
    "start_time": "2024-01-06T06:03:59.574Z"
   },
   {
    "duration": 1898,
    "start_time": "2024-01-06T06:04:10.201Z"
   },
   {
    "duration": 2479,
    "start_time": "2024-01-06T06:05:05.074Z"
   },
   {
    "duration": 1996,
    "start_time": "2024-01-06T06:05:19.055Z"
   },
   {
    "duration": 2128,
    "start_time": "2024-01-06T06:05:58.783Z"
   },
   {
    "duration": 2904,
    "start_time": "2024-01-06T06:06:11.391Z"
   },
   {
    "duration": 6231,
    "start_time": "2024-01-06T06:06:34.284Z"
   },
   {
    "duration": 1940,
    "start_time": "2024-01-06T06:06:47.803Z"
   },
   {
    "duration": 2630,
    "start_time": "2024-01-06T06:09:37.211Z"
   },
   {
    "duration": 4914,
    "start_time": "2024-01-06T06:12:55.848Z"
   },
   {
    "duration": 2455,
    "start_time": "2024-01-06T06:13:37.802Z"
   },
   {
    "duration": 2201,
    "start_time": "2024-01-06T06:13:49.299Z"
   },
   {
    "duration": 1295,
    "start_time": "2024-01-06T06:23:10.696Z"
   },
   {
    "duration": 9806,
    "start_time": "2024-01-06T06:24:11.330Z"
   },
   {
    "duration": 14077,
    "start_time": "2024-01-06T06:27:33.352Z"
   },
   {
    "duration": 3343,
    "start_time": "2024-01-06T06:29:53.759Z"
   },
   {
    "duration": 4816,
    "start_time": "2024-01-06T06:30:05.107Z"
   },
   {
    "duration": 2917,
    "start_time": "2024-01-06T06:30:39.590Z"
   },
   {
    "duration": 4588,
    "start_time": "2024-01-06T06:31:01.511Z"
   },
   {
    "duration": 2624,
    "start_time": "2024-01-06T06:33:14.667Z"
   },
   {
    "duration": 2602,
    "start_time": "2024-01-06T06:33:28.706Z"
   },
   {
    "duration": 2152,
    "start_time": "2024-01-06T06:33:36.254Z"
   },
   {
    "duration": 2241,
    "start_time": "2024-01-06T06:33:42.094Z"
   },
   {
    "duration": 2125,
    "start_time": "2024-01-06T06:33:48.597Z"
   },
   {
    "duration": 2734,
    "start_time": "2024-01-06T06:34:34.688Z"
   },
   {
    "duration": 8860,
    "start_time": "2024-01-06T06:36:30.849Z"
   },
   {
    "duration": 5767,
    "start_time": "2024-01-06T06:36:51.233Z"
   },
   {
    "duration": 6534,
    "start_time": "2024-01-06T06:37:39.010Z"
   },
   {
    "duration": 4321,
    "start_time": "2024-01-06T06:38:29.801Z"
   },
   {
    "duration": 4066,
    "start_time": "2024-01-06T06:38:43.579Z"
   },
   {
    "duration": 4052,
    "start_time": "2024-01-06T06:40:48.071Z"
   },
   {
    "duration": 3713,
    "start_time": "2024-01-06T06:41:12.579Z"
   },
   {
    "duration": 4413,
    "start_time": "2024-01-06T06:41:22.994Z"
   },
   {
    "duration": 3692,
    "start_time": "2024-01-06T06:41:40.107Z"
   },
   {
    "duration": 4260,
    "start_time": "2024-01-06T06:48:56.209Z"
   },
   {
    "duration": 4717,
    "start_time": "2024-01-06T06:49:55.079Z"
   },
   {
    "duration": 4437,
    "start_time": "2024-01-07T06:04:47.687Z"
   },
   {
    "duration": 24574,
    "start_time": "2024-01-07T06:15:08.619Z"
   },
   {
    "duration": 15640,
    "start_time": "2024-01-07T06:19:51.546Z"
   },
   {
    "duration": 11948,
    "start_time": "2024-01-07T06:21:19.202Z"
   },
   {
    "duration": 11961,
    "start_time": "2024-01-07T06:21:42.389Z"
   },
   {
    "duration": 18169,
    "start_time": "2024-01-07T06:22:27.634Z"
   },
   {
    "duration": 2907,
    "start_time": "2024-01-07T06:24:45.724Z"
   },
   {
    "duration": 12827,
    "start_time": "2024-01-07T06:25:41.748Z"
   },
   {
    "duration": 9844,
    "start_time": "2024-01-07T06:26:23.908Z"
   },
   {
    "duration": 8569,
    "start_time": "2024-01-07T06:28:07.598Z"
   },
   {
    "duration": 19584,
    "start_time": "2024-01-08T05:49:33.080Z"
   },
   {
    "duration": 39449,
    "start_time": "2024-01-08T05:59:42.569Z"
   },
   {
    "duration": 0,
    "start_time": "2024-01-08T06:02:31.495Z"
   },
   {
    "duration": 22313,
    "start_time": "2024-01-08T06:02:32.390Z"
   },
   {
    "duration": 97,
    "start_time": "2024-01-08T06:36:17.378Z"
   },
   {
    "duration": 32142,
    "start_time": "2024-01-08T06:36:25.272Z"
   },
   {
    "duration": 21494,
    "start_time": "2024-01-08T06:41:47.718Z"
   },
   {
    "duration": 11,
    "start_time": "2024-01-11T04:28:26.286Z"
   },
   {
    "duration": 3,
    "start_time": "2024-01-11T04:28:29.136Z"
   },
   {
    "duration": 4,
    "start_time": "2024-01-11T04:29:22.968Z"
   },
   {
    "duration": 2725,
    "start_time": "2024-01-11T04:29:36.213Z"
   },
   {
    "duration": 4,
    "start_time": "2024-01-11T04:29:43.340Z"
   },
   {
    "duration": 6013,
    "start_time": "2024-01-11T04:30:39.986Z"
   },
   {
    "duration": 2600,
    "start_time": "2024-01-11T04:30:50.517Z"
   },
   {
    "duration": 4,
    "start_time": "2024-01-11T04:30:55.346Z"
   },
   {
    "duration": 42,
    "start_time": "2024-01-11T04:31:45.036Z"
   },
   {
    "duration": 4,
    "start_time": "2024-01-11T04:31:54.366Z"
   },
   {
    "duration": 3,
    "start_time": "2024-01-11T04:32:02.186Z"
   },
   {
    "duration": 7041,
    "start_time": "2024-01-11T04:32:08.356Z"
   },
   {
    "duration": 4,
    "start_time": "2024-01-11T04:32:17.038Z"
   },
   {
    "duration": 3,
    "start_time": "2024-01-11T04:32:20.080Z"
   },
   {
    "duration": 109,
    "start_time": "2024-01-11T05:27:45.012Z"
   },
   {
    "duration": 71,
    "start_time": "2024-01-11T05:27:57.980Z"
   },
   {
    "duration": 33356,
    "start_time": "2024-01-11T05:28:06.259Z"
   },
   {
    "duration": 27172,
    "start_time": "2024-01-11T05:30:14.124Z"
   },
   {
    "duration": 21696,
    "start_time": "2024-01-11T05:31:32.710Z"
   },
   {
    "duration": 5497,
    "start_time": "2024-01-11T05:37:50.313Z"
   },
   {
    "duration": 1097,
    "start_time": "2024-01-11T05:38:06.467Z"
   },
   {
    "duration": 5124,
    "start_time": "2024-01-11T06:33:16.947Z"
   },
   {
    "duration": 1229,
    "start_time": "2024-01-11T06:33:34.047Z"
   },
   {
    "duration": 3328,
    "start_time": "2024-01-11T06:34:33.307Z"
   },
   {
    "duration": 1077,
    "start_time": "2024-01-11T06:34:44.576Z"
   },
   {
    "duration": 890,
    "start_time": "2024-01-11T06:36:16.457Z"
   },
   {
    "duration": 3332,
    "start_time": "2024-01-11T07:27:40.504Z"
   },
   {
    "duration": 5785,
    "start_time": "2024-01-11T07:28:46.176Z"
   },
   {
    "duration": 68,
    "start_time": "2024-01-11T07:29:09.127Z"
   },
   {
    "duration": 1138,
    "start_time": "2024-01-11T07:29:31.437Z"
   },
   {
    "duration": 1165,
    "start_time": "2024-01-11T07:29:51.323Z"
   },
   {
    "duration": 1220,
    "start_time": "2024-01-11T07:30:25.638Z"
   },
   {
    "duration": 1032,
    "start_time": "2024-01-11T07:30:48.972Z"
   },
   {
    "duration": 861,
    "start_time": "2024-01-11T07:30:59.637Z"
   },
   {
    "duration": 669772,
    "start_time": "2024-01-11T07:34:15.028Z"
   },
   {
    "duration": 9,
    "start_time": "2024-01-11T07:46:18.387Z"
   },
   {
    "duration": 8,
    "start_time": "2024-01-11T07:46:36.457Z"
   },
   {
    "duration": 47,
    "start_time": "2024-01-11T07:51:54.827Z"
   },
   {
    "duration": 7540,
    "start_time": "2024-01-11T07:58:21.878Z"
   },
   {
    "duration": 1160910,
    "start_time": "2024-01-11T08:00:39.267Z"
   },
   {
    "duration": 14798,
    "start_time": "2024-01-11T08:23:58.301Z"
   },
   {
    "duration": 11621,
    "start_time": "2024-01-11T08:24:43.595Z"
   },
   {
    "duration": 1213,
    "start_time": "2024-01-11T08:24:55.993Z"
   },
   {
    "duration": 908,
    "start_time": "2024-01-11T08:25:27.756Z"
   },
   {
    "duration": 1541,
    "start_time": "2024-01-11T08:25:35.725Z"
   },
   {
    "duration": 825,
    "start_time": "2024-01-11T08:25:45.611Z"
   },
   {
    "duration": 9062,
    "start_time": "2024-01-11T08:40:04.472Z"
   },
   {
    "duration": 3645,
    "start_time": "2024-01-11T08:40:39.881Z"
   },
   {
    "duration": 3672,
    "start_time": "2024-01-11T08:41:06.192Z"
   },
   {
    "duration": 17972,
    "start_time": "2024-01-11T08:42:00.426Z"
   },
   {
    "duration": 10355,
    "start_time": "2024-01-11T08:42:32.009Z"
   },
   {
    "duration": 5022,
    "start_time": "2024-01-11T08:42:59.258Z"
   },
   {
    "duration": 6845,
    "start_time": "2024-01-11T08:43:45.554Z"
   },
   {
    "duration": 88,
    "start_time": "2024-01-11T08:52:08.838Z"
   },
   {
    "duration": 8591,
    "start_time": "2024-01-11T08:52:23.578Z"
   },
   {
    "duration": 8,
    "start_time": "2024-01-11T09:06:45.249Z"
   },
   {
    "duration": 8,
    "start_time": "2024-01-11T09:07:05.788Z"
   },
   {
    "duration": 9,
    "start_time": "2024-01-11T09:07:15.390Z"
   },
   {
    "duration": 34191,
    "start_time": "2024-01-11T09:07:21.509Z"
   },
   {
    "duration": 29156,
    "start_time": "2024-01-11T09:09:07.955Z"
   },
   {
    "duration": 30063,
    "start_time": "2024-01-11T09:10:35.967Z"
   },
   {
    "duration": 26737,
    "start_time": "2024-01-11T09:11:43.308Z"
   }
  ],
  "accelerator": "GPU",
  "colab": {
   "gpuType": "T4",
   "provenance": []
  },
  "kernelspec": {
   "display_name": "Python 3 (ipykernel)",
   "language": "python",
   "name": "python3"
  },
  "language_info": {
   "codemirror_mode": {
    "name": "ipython",
    "version": 3
   },
   "file_extension": ".py",
   "mimetype": "text/x-python",
   "name": "python",
   "nbconvert_exporter": "python",
   "pygments_lexer": "ipython3",
   "version": "3.9.5"
  },
  "toc": {
   "base_numbering": 1,
   "nav_menu": {},
   "number_sections": true,
   "sideBar": true,
   "skip_h1_title": true,
   "title_cell": "Table of Contents",
   "title_sidebar": "Contents",
   "toc_cell": false,
   "toc_position": {},
   "toc_section_display": true,
   "toc_window_display": false
  },
  "widgets": {
   "application/vnd.jupyter.widget-state+json": {
    "00e461912c1f48d795804d9fe9f1a2e6": {
     "model_module": "@jupyter-widgets/base",
     "model_module_version": "1.2.0",
     "model_name": "LayoutModel",
     "state": {
      "_model_module": "@jupyter-widgets/base",
      "_model_module_version": "1.2.0",
      "_model_name": "LayoutModel",
      "_view_count": null,
      "_view_module": "@jupyter-widgets/base",
      "_view_module_version": "1.2.0",
      "_view_name": "LayoutView",
      "align_content": null,
      "align_items": null,
      "align_self": null,
      "border": null,
      "bottom": null,
      "display": null,
      "flex": null,
      "flex_flow": null,
      "grid_area": null,
      "grid_auto_columns": null,
      "grid_auto_flow": null,
      "grid_auto_rows": null,
      "grid_column": null,
      "grid_gap": null,
      "grid_row": null,
      "grid_template_areas": null,
      "grid_template_columns": null,
      "grid_template_rows": null,
      "height": null,
      "justify_content": null,
      "justify_items": null,
      "left": null,
      "margin": null,
      "max_height": null,
      "max_width": null,
      "min_height": null,
      "min_width": null,
      "object_fit": null,
      "object_position": null,
      "order": null,
      "overflow": null,
      "overflow_x": null,
      "overflow_y": null,
      "padding": null,
      "right": null,
      "top": null,
      "visibility": null,
      "width": null
     }
    },
    "085abccd1a5344c589abfbd6cb5bb763": {
     "model_module": "@jupyter-widgets/controls",
     "model_module_version": "1.5.0",
     "model_name": "DescriptionStyleModel",
     "state": {
      "_model_module": "@jupyter-widgets/controls",
      "_model_module_version": "1.5.0",
      "_model_name": "DescriptionStyleModel",
      "_view_count": null,
      "_view_module": "@jupyter-widgets/base",
      "_view_module_version": "1.2.0",
      "_view_name": "StyleView",
      "description_width": ""
     }
    },
    "0cc5d4f914674973871eac619568636a": {
     "model_module": "@jupyter-widgets/controls",
     "model_module_version": "1.5.0",
     "model_name": "HTMLModel",
     "state": {
      "_dom_classes": [],
      "_model_module": "@jupyter-widgets/controls",
      "_model_module_version": "1.5.0",
      "_model_name": "HTMLModel",
      "_view_count": null,
      "_view_module": "@jupyter-widgets/controls",
      "_view_module_version": "1.5.0",
      "_view_name": "HTMLView",
      "description": "",
      "description_tooltip": null,
      "layout": "IPY_MODEL_5dad6889cdaf4bf0b2a91b90e9a881a6",
      "placeholder": "​",
      "style": "IPY_MODEL_f9e385218d3d4c1db03ea6330386944c",
      "value": "100%"
     }
    },
    "1730d45a89824b8994535ac29aee7c02": {
     "model_module": "@jupyter-widgets/base",
     "model_module_version": "1.2.0",
     "model_name": "LayoutModel",
     "state": {
      "_model_module": "@jupyter-widgets/base",
      "_model_module_version": "1.2.0",
      "_model_name": "LayoutModel",
      "_view_count": null,
      "_view_module": "@jupyter-widgets/base",
      "_view_module_version": "1.2.0",
      "_view_name": "LayoutView",
      "align_content": null,
      "align_items": null,
      "align_self": null,
      "border": null,
      "bottom": null,
      "display": null,
      "flex": null,
      "flex_flow": null,
      "grid_area": null,
      "grid_auto_columns": null,
      "grid_auto_flow": null,
      "grid_auto_rows": null,
      "grid_column": null,
      "grid_gap": null,
      "grid_row": null,
      "grid_template_areas": null,
      "grid_template_columns": null,
      "grid_template_rows": null,
      "height": null,
      "justify_content": null,
      "justify_items": null,
      "left": null,
      "margin": null,
      "max_height": null,
      "max_width": null,
      "min_height": null,
      "min_width": null,
      "object_fit": null,
      "object_position": null,
      "order": null,
      "overflow": null,
      "overflow_x": null,
      "overflow_y": null,
      "padding": null,
      "right": null,
      "top": null,
      "visibility": null,
      "width": null
     }
    },
    "1816403a02d44810a7aa1dbdad6d0290": {
     "model_module": "@jupyter-widgets/base",
     "model_module_version": "1.2.0",
     "model_name": "LayoutModel",
     "state": {
      "_model_module": "@jupyter-widgets/base",
      "_model_module_version": "1.2.0",
      "_model_name": "LayoutModel",
      "_view_count": null,
      "_view_module": "@jupyter-widgets/base",
      "_view_module_version": "1.2.0",
      "_view_name": "LayoutView",
      "align_content": null,
      "align_items": null,
      "align_self": null,
      "border": null,
      "bottom": null,
      "display": null,
      "flex": null,
      "flex_flow": null,
      "grid_area": null,
      "grid_auto_columns": null,
      "grid_auto_flow": null,
      "grid_auto_rows": null,
      "grid_column": null,
      "grid_gap": null,
      "grid_row": null,
      "grid_template_areas": null,
      "grid_template_columns": null,
      "grid_template_rows": null,
      "height": null,
      "justify_content": null,
      "justify_items": null,
      "left": null,
      "margin": null,
      "max_height": null,
      "max_width": null,
      "min_height": null,
      "min_width": null,
      "object_fit": null,
      "object_position": null,
      "order": null,
      "overflow": null,
      "overflow_x": null,
      "overflow_y": null,
      "padding": null,
      "right": null,
      "top": null,
      "visibility": null,
      "width": null
     }
    },
    "225648e1077746f3b57dd6045ff10996": {
     "model_module": "@jupyter-widgets/controls",
     "model_module_version": "1.5.0",
     "model_name": "ProgressStyleModel",
     "state": {
      "_model_module": "@jupyter-widgets/controls",
      "_model_module_version": "1.5.0",
      "_model_name": "ProgressStyleModel",
      "_view_count": null,
      "_view_module": "@jupyter-widgets/base",
      "_view_module_version": "1.2.0",
      "_view_name": "StyleView",
      "bar_color": null,
      "description_width": ""
     }
    },
    "2b2bad72c3374fdc870cccb120ed0ea6": {
     "model_module": "@jupyter-widgets/controls",
     "model_module_version": "1.5.0",
     "model_name": "HBoxModel",
     "state": {
      "_dom_classes": [],
      "_model_module": "@jupyter-widgets/controls",
      "_model_module_version": "1.5.0",
      "_model_name": "HBoxModel",
      "_view_count": null,
      "_view_module": "@jupyter-widgets/controls",
      "_view_module_version": "1.5.0",
      "_view_name": "HBoxView",
      "box_style": "",
      "children": [
       "IPY_MODEL_2c634bf254064f9a9cd66403a2d058f5",
       "IPY_MODEL_4635e507b8f9440383115a3c7a8bd3bf",
       "IPY_MODEL_8cb60845c7e8428abcc6c3a91347f423"
      ],
      "layout": "IPY_MODEL_1816403a02d44810a7aa1dbdad6d0290"
     }
    },
    "2c634bf254064f9a9cd66403a2d058f5": {
     "model_module": "@jupyter-widgets/controls",
     "model_module_version": "1.5.0",
     "model_name": "HTMLModel",
     "state": {
      "_dom_classes": [],
      "_model_module": "@jupyter-widgets/controls",
      "_model_module_version": "1.5.0",
      "_model_name": "HTMLModel",
      "_view_count": null,
      "_view_module": "@jupyter-widgets/controls",
      "_view_module_version": "1.5.0",
      "_view_name": "HTMLView",
      "description": "",
      "description_tooltip": null,
      "layout": "IPY_MODEL_7218d6a6803a4e39ae1e9a4f37817e38",
      "placeholder": "​",
      "style": "IPY_MODEL_6111ebe354aa407580a96ba1ca8089e3",
      "value": "model.safetensors: 100%"
     }
    },
    "4635e507b8f9440383115a3c7a8bd3bf": {
     "model_module": "@jupyter-widgets/controls",
     "model_module_version": "1.5.0",
     "model_name": "FloatProgressModel",
     "state": {
      "_dom_classes": [],
      "_model_module": "@jupyter-widgets/controls",
      "_model_module_version": "1.5.0",
      "_model_name": "FloatProgressModel",
      "_view_count": null,
      "_view_module": "@jupyter-widgets/controls",
      "_view_module_version": "1.5.0",
      "_view_name": "ProgressView",
      "bar_style": "success",
      "description": "",
      "description_tooltip": null,
      "layout": "IPY_MODEL_00e461912c1f48d795804d9fe9f1a2e6",
      "max": 440449768,
      "min": 0,
      "orientation": "horizontal",
      "style": "IPY_MODEL_225648e1077746f3b57dd6045ff10996",
      "value": 440449768
     }
    },
    "4e00cca64fd843faad8f249274354731": {
     "model_module": "@jupyter-widgets/controls",
     "model_module_version": "1.5.0",
     "model_name": "HBoxModel",
     "state": {
      "_dom_classes": [],
      "_model_module": "@jupyter-widgets/controls",
      "_model_module_version": "1.5.0",
      "_model_name": "HBoxModel",
      "_view_count": null,
      "_view_module": "@jupyter-widgets/controls",
      "_view_module_version": "1.5.0",
      "_view_name": "HBoxView",
      "box_style": "",
      "children": [
       "IPY_MODEL_0cc5d4f914674973871eac619568636a",
       "IPY_MODEL_a64b5b30e7f64eb8b1e02bed778e1725",
       "IPY_MODEL_a292c669cea640fbae45cbcf8b6a5fb6"
      ],
      "layout": "IPY_MODEL_f02ac304db784253bed4e949a5ada91c"
     }
    },
    "5dad6889cdaf4bf0b2a91b90e9a881a6": {
     "model_module": "@jupyter-widgets/base",
     "model_module_version": "1.2.0",
     "model_name": "LayoutModel",
     "state": {
      "_model_module": "@jupyter-widgets/base",
      "_model_module_version": "1.2.0",
      "_model_name": "LayoutModel",
      "_view_count": null,
      "_view_module": "@jupyter-widgets/base",
      "_view_module_version": "1.2.0",
      "_view_name": "LayoutView",
      "align_content": null,
      "align_items": null,
      "align_self": null,
      "border": null,
      "bottom": null,
      "display": null,
      "flex": null,
      "flex_flow": null,
      "grid_area": null,
      "grid_auto_columns": null,
      "grid_auto_flow": null,
      "grid_auto_rows": null,
      "grid_column": null,
      "grid_gap": null,
      "grid_row": null,
      "grid_template_areas": null,
      "grid_template_columns": null,
      "grid_template_rows": null,
      "height": null,
      "justify_content": null,
      "justify_items": null,
      "left": null,
      "margin": null,
      "max_height": null,
      "max_width": null,
      "min_height": null,
      "min_width": null,
      "object_fit": null,
      "object_position": null,
      "order": null,
      "overflow": null,
      "overflow_x": null,
      "overflow_y": null,
      "padding": null,
      "right": null,
      "top": null,
      "visibility": null,
      "width": null
     }
    },
    "6111ebe354aa407580a96ba1ca8089e3": {
     "model_module": "@jupyter-widgets/controls",
     "model_module_version": "1.5.0",
     "model_name": "DescriptionStyleModel",
     "state": {
      "_model_module": "@jupyter-widgets/controls",
      "_model_module_version": "1.5.0",
      "_model_name": "DescriptionStyleModel",
      "_view_count": null,
      "_view_module": "@jupyter-widgets/base",
      "_view_module_version": "1.2.0",
      "_view_name": "StyleView",
      "description_width": ""
     }
    },
    "7218d6a6803a4e39ae1e9a4f37817e38": {
     "model_module": "@jupyter-widgets/base",
     "model_module_version": "1.2.0",
     "model_name": "LayoutModel",
     "state": {
      "_model_module": "@jupyter-widgets/base",
      "_model_module_version": "1.2.0",
      "_model_name": "LayoutModel",
      "_view_count": null,
      "_view_module": "@jupyter-widgets/base",
      "_view_module_version": "1.2.0",
      "_view_name": "LayoutView",
      "align_content": null,
      "align_items": null,
      "align_self": null,
      "border": null,
      "bottom": null,
      "display": null,
      "flex": null,
      "flex_flow": null,
      "grid_area": null,
      "grid_auto_columns": null,
      "grid_auto_flow": null,
      "grid_auto_rows": null,
      "grid_column": null,
      "grid_gap": null,
      "grid_row": null,
      "grid_template_areas": null,
      "grid_template_columns": null,
      "grid_template_rows": null,
      "height": null,
      "justify_content": null,
      "justify_items": null,
      "left": null,
      "margin": null,
      "max_height": null,
      "max_width": null,
      "min_height": null,
      "min_width": null,
      "object_fit": null,
      "object_position": null,
      "order": null,
      "overflow": null,
      "overflow_x": null,
      "overflow_y": null,
      "padding": null,
      "right": null,
      "top": null,
      "visibility": null,
      "width": null
     }
    },
    "8cb60845c7e8428abcc6c3a91347f423": {
     "model_module": "@jupyter-widgets/controls",
     "model_module_version": "1.5.0",
     "model_name": "HTMLModel",
     "state": {
      "_dom_classes": [],
      "_model_module": "@jupyter-widgets/controls",
      "_model_module_version": "1.5.0",
      "_model_name": "HTMLModel",
      "_view_count": null,
      "_view_module": "@jupyter-widgets/controls",
      "_view_module_version": "1.5.0",
      "_view_name": "HTMLView",
      "description": "",
      "description_tooltip": null,
      "layout": "IPY_MODEL_c381722120204e0ea85f86ea25645b55",
      "placeholder": "​",
      "style": "IPY_MODEL_de0525ca07ce472dac372b3f81600e48",
      "value": " 440M/440M [00:05&lt;00:00, 133MB/s]"
     }
    },
    "a292c669cea640fbae45cbcf8b6a5fb6": {
     "model_module": "@jupyter-widgets/controls",
     "model_module_version": "1.5.0",
     "model_name": "HTMLModel",
     "state": {
      "_dom_classes": [],
      "_model_module": "@jupyter-widgets/controls",
      "_model_module_version": "1.5.0",
      "_model_name": "HTMLModel",
      "_view_count": null,
      "_view_module": "@jupyter-widgets/controls",
      "_view_module_version": "1.5.0",
      "_view_name": "HTMLView",
      "description": "",
      "description_tooltip": null,
      "layout": "IPY_MODEL_1730d45a89824b8994535ac29aee7c02",
      "placeholder": "​",
      "style": "IPY_MODEL_085abccd1a5344c589abfbd6cb5bb763",
      "value": " 5689/5689 [1:24:41&lt;00:00,  1.12it/s]"
     }
    },
    "a64b5b30e7f64eb8b1e02bed778e1725": {
     "model_module": "@jupyter-widgets/controls",
     "model_module_version": "1.5.0",
     "model_name": "FloatProgressModel",
     "state": {
      "_dom_classes": [],
      "_model_module": "@jupyter-widgets/controls",
      "_model_module_version": "1.5.0",
      "_model_name": "FloatProgressModel",
      "_view_count": null,
      "_view_module": "@jupyter-widgets/controls",
      "_view_module_version": "1.5.0",
      "_view_name": "ProgressView",
      "bar_style": "success",
      "description": "",
      "description_tooltip": null,
      "layout": "IPY_MODEL_d0a52148091a4a109698edf9cfc1a40e",
      "max": 5689,
      "min": 0,
      "orientation": "horizontal",
      "style": "IPY_MODEL_d50012184a8e40768e67a30293b7c03d",
      "value": 5689
     }
    },
    "c381722120204e0ea85f86ea25645b55": {
     "model_module": "@jupyter-widgets/base",
     "model_module_version": "1.2.0",
     "model_name": "LayoutModel",
     "state": {
      "_model_module": "@jupyter-widgets/base",
      "_model_module_version": "1.2.0",
      "_model_name": "LayoutModel",
      "_view_count": null,
      "_view_module": "@jupyter-widgets/base",
      "_view_module_version": "1.2.0",
      "_view_name": "LayoutView",
      "align_content": null,
      "align_items": null,
      "align_self": null,
      "border": null,
      "bottom": null,
      "display": null,
      "flex": null,
      "flex_flow": null,
      "grid_area": null,
      "grid_auto_columns": null,
      "grid_auto_flow": null,
      "grid_auto_rows": null,
      "grid_column": null,
      "grid_gap": null,
      "grid_row": null,
      "grid_template_areas": null,
      "grid_template_columns": null,
      "grid_template_rows": null,
      "height": null,
      "justify_content": null,
      "justify_items": null,
      "left": null,
      "margin": null,
      "max_height": null,
      "max_width": null,
      "min_height": null,
      "min_width": null,
      "object_fit": null,
      "object_position": null,
      "order": null,
      "overflow": null,
      "overflow_x": null,
      "overflow_y": null,
      "padding": null,
      "right": null,
      "top": null,
      "visibility": null,
      "width": null
     }
    },
    "d0a52148091a4a109698edf9cfc1a40e": {
     "model_module": "@jupyter-widgets/base",
     "model_module_version": "1.2.0",
     "model_name": "LayoutModel",
     "state": {
      "_model_module": "@jupyter-widgets/base",
      "_model_module_version": "1.2.0",
      "_model_name": "LayoutModel",
      "_view_count": null,
      "_view_module": "@jupyter-widgets/base",
      "_view_module_version": "1.2.0",
      "_view_name": "LayoutView",
      "align_content": null,
      "align_items": null,
      "align_self": null,
      "border": null,
      "bottom": null,
      "display": null,
      "flex": null,
      "flex_flow": null,
      "grid_area": null,
      "grid_auto_columns": null,
      "grid_auto_flow": null,
      "grid_auto_rows": null,
      "grid_column": null,
      "grid_gap": null,
      "grid_row": null,
      "grid_template_areas": null,
      "grid_template_columns": null,
      "grid_template_rows": null,
      "height": null,
      "justify_content": null,
      "justify_items": null,
      "left": null,
      "margin": null,
      "max_height": null,
      "max_width": null,
      "min_height": null,
      "min_width": null,
      "object_fit": null,
      "object_position": null,
      "order": null,
      "overflow": null,
      "overflow_x": null,
      "overflow_y": null,
      "padding": null,
      "right": null,
      "top": null,
      "visibility": null,
      "width": null
     }
    },
    "d50012184a8e40768e67a30293b7c03d": {
     "model_module": "@jupyter-widgets/controls",
     "model_module_version": "1.5.0",
     "model_name": "ProgressStyleModel",
     "state": {
      "_model_module": "@jupyter-widgets/controls",
      "_model_module_version": "1.5.0",
      "_model_name": "ProgressStyleModel",
      "_view_count": null,
      "_view_module": "@jupyter-widgets/base",
      "_view_module_version": "1.2.0",
      "_view_name": "StyleView",
      "bar_color": null,
      "description_width": ""
     }
    },
    "de0525ca07ce472dac372b3f81600e48": {
     "model_module": "@jupyter-widgets/controls",
     "model_module_version": "1.5.0",
     "model_name": "DescriptionStyleModel",
     "state": {
      "_model_module": "@jupyter-widgets/controls",
      "_model_module_version": "1.5.0",
      "_model_name": "DescriptionStyleModel",
      "_view_count": null,
      "_view_module": "@jupyter-widgets/base",
      "_view_module_version": "1.2.0",
      "_view_name": "StyleView",
      "description_width": ""
     }
    },
    "f02ac304db784253bed4e949a5ada91c": {
     "model_module": "@jupyter-widgets/base",
     "model_module_version": "1.2.0",
     "model_name": "LayoutModel",
     "state": {
      "_model_module": "@jupyter-widgets/base",
      "_model_module_version": "1.2.0",
      "_model_name": "LayoutModel",
      "_view_count": null,
      "_view_module": "@jupyter-widgets/base",
      "_view_module_version": "1.2.0",
      "_view_name": "LayoutView",
      "align_content": null,
      "align_items": null,
      "align_self": null,
      "border": null,
      "bottom": null,
      "display": null,
      "flex": null,
      "flex_flow": null,
      "grid_area": null,
      "grid_auto_columns": null,
      "grid_auto_flow": null,
      "grid_auto_rows": null,
      "grid_column": null,
      "grid_gap": null,
      "grid_row": null,
      "grid_template_areas": null,
      "grid_template_columns": null,
      "grid_template_rows": null,
      "height": null,
      "justify_content": null,
      "justify_items": null,
      "left": null,
      "margin": null,
      "max_height": null,
      "max_width": null,
      "min_height": null,
      "min_width": null,
      "object_fit": null,
      "object_position": null,
      "order": null,
      "overflow": null,
      "overflow_x": null,
      "overflow_y": null,
      "padding": null,
      "right": null,
      "top": null,
      "visibility": null,
      "width": null
     }
    },
    "f9e385218d3d4c1db03ea6330386944c": {
     "model_module": "@jupyter-widgets/controls",
     "model_module_version": "1.5.0",
     "model_name": "DescriptionStyleModel",
     "state": {
      "_model_module": "@jupyter-widgets/controls",
      "_model_module_version": "1.5.0",
      "_model_name": "DescriptionStyleModel",
      "_view_count": null,
      "_view_module": "@jupyter-widgets/base",
      "_view_module_version": "1.2.0",
      "_view_name": "StyleView",
      "description_width": ""
     }
    }
   }
  }
 },
 "nbformat": 4,
 "nbformat_minor": 1
}
